{
  "cells": [
    {
      "cell_type": "markdown",
      "metadata": {
        "id": "Lf1wDSp10VC8"
      },
      "source": [
        "# Week 6: Generative adversarial network (GAN) "
      ]
    },
    {
      "cell_type": "markdown",
      "metadata": {
        "id": "kYCu1vmayrI7"
      },
      "source": [
        "written by Jihoon-Tack (jihoontack@kaist.ac.kr) "
      ]
    },
    {
      "cell_type": "markdown",
      "metadata": {
        "id": "IeX2sxyD0VC9"
      },
      "source": [
        "- We will cover basic concepts of GAN & implement vanilla GAN \\[[Goodfellow et al., NIPS 2014](https://papers.nips.cc/paper/5423-generative-adversarial-nets.pdf)\\]\n",
        "- We will give basic skeletone code which include (1) training structure (2) sample visualization (3) FID evaluation\n",
        "- You should implement (1) ***generator & discriminator architecture*** (2) ***noise sampling***  (3) ***GAN loss*** \n",
        "- Additionally, will give you [DCGAN](https://arxiv.org/abs/1511.06434) (basic GAN architecture) code that you can enjoy by your-self \n",
        "\n",
        "If you have any questions, feel free to ask\n",
        "- For additional questions, send emails to mjbooo@kaist.ac.kr"
      ]
    },
    {
      "cell_type": "markdown",
      "metadata": {
        "id": "GDpMzP6s0VC9"
      },
      "source": [
        "## 0. Preliminary"
      ]
    },
    {
      "cell_type": "markdown",
      "metadata": {
        "id": "yeGSWgoL0VC9"
      },
      "source": [
        "### 0.1. Prelim step 1: Load packages & GPU setup"
      ]
    },
    {
      "cell_type": "code",
      "execution_count": 1,
      "metadata": {
        "colab": {
          "base_uri": "https://localhost:8080/"
        },
        "id": "Pd_zIwr40VC-",
        "outputId": "f861f2d0-1e4f-43c2-8ddc-af0a354e2287"
      },
      "outputs": [
        {
          "name": "stdout",
          "output_type": "stream",
          "text": [
            "Wed Oct  6 12:48:20 2021       \n",
            "+-----------------------------------------------------------------------------+\n",
            "| NVIDIA-SMI 470.74       Driver Version: 460.32.03    CUDA Version: 11.2     |\n",
            "|-------------------------------+----------------------+----------------------+\n",
            "| GPU  Name        Persistence-M| Bus-Id        Disp.A | Volatile Uncorr. ECC |\n",
            "| Fan  Temp  Perf  Pwr:Usage/Cap|         Memory-Usage | GPU-Util  Compute M. |\n",
            "|                               |                      |               MIG M. |\n",
            "|===============================+======================+======================|\n",
            "|   0  Tesla K80           Off  | 00000000:00:04.0 Off |                    0 |\n",
            "| N/A   32C    P8    27W / 149W |      0MiB / 11441MiB |      0%      Default |\n",
            "|                               |                      |                  N/A |\n",
            "+-------------------------------+----------------------+----------------------+\n",
            "                                                                               \n",
            "+-----------------------------------------------------------------------------+\n",
            "| Processes:                                                                  |\n",
            "|  GPU   GI   CI        PID   Type   Process name                  GPU Memory |\n",
            "|        ID   ID                                                   Usage      |\n",
            "|=============================================================================|\n",
            "|  No running processes found                                                 |\n",
            "+-----------------------------------------------------------------------------+\n"
          ]
        }
      ],
      "source": [
        "# visualize current GPU usages in your server\n",
        "!nvidia-smi "
      ]
    },
    {
      "cell_type": "code",
      "execution_count": 2,
      "metadata": {
        "id": "kQbHeIUn0VC_"
      },
      "outputs": [],
      "source": [
        "# set gpu by number \n",
        "import os\n",
        "import random\n",
        "os.environ['CUDA_VISIBLE_DEVICES'] = '0'  # setting gpu number"
      ]
    },
    {
      "cell_type": "code",
      "execution_count": 3,
      "metadata": {
        "id": "WD3OhGRX0VC_"
      },
      "outputs": [],
      "source": [
        "# load packages\n",
        "import numpy as np\n",
        "import matplotlib.pyplot as plt\n",
        "import matplotlib.animation as animation\n",
        "import imageio #### install with \"pip install imageio\"\n",
        "from IPython.display import HTML\n",
        "\n",
        "import torch\n",
        "import torch.nn as nn\n",
        "import torch.nn.parallel\n",
        "import torch.backends.cudnn as cudnn\n",
        "import torch.optim as optim\n",
        "import torch.utils.data\n",
        "import torchvision.datasets as dset\n",
        "import torchvision.transforms as transforms\n",
        "import torchvision.utils as vutils\n",
        "from torchvision.utils import make_grid"
      ]
    },
    {
      "cell_type": "code",
      "execution_count": 4,
      "metadata": {
        "id": "_LKooV2s0VDA"
      },
      "outputs": [],
      "source": [
        "# Create folders\n",
        "if not os.path.exists('./checkpoint'):\n",
        "    os.mkdir('./checkpoint')\n",
        "    \n",
        "if not os.path.exists('./dataset'):\n",
        "    os.mkdir('./dataset')\n",
        "    \n",
        "if not os.path.exists('./img'):\n",
        "    os.mkdir('./img')\n",
        "    \n",
        "if not os.path.exists('./img/real'):\n",
        "    os.mkdir('./img/real')\n",
        "\n",
        "if not os.path.exists('./img/fake'):\n",
        "    os.mkdir('./img/fake')"
      ]
    },
    {
      "cell_type": "markdown",
      "metadata": {
        "id": "D_KmS2wL0VDA"
      },
      "source": [
        "### 0.2. Prelim step 2: Define visualization & image saving code"
      ]
    },
    {
      "cell_type": "code",
      "execution_count": 5,
      "metadata": {
        "id": "oIs_yyhI0VDB"
      },
      "outputs": [],
      "source": [
        "# visualize the first image from the torch tensor\n",
        "def vis_image(image):\n",
        "    plt.imshow(image[0].detach().cpu().numpy(),cmap='gray')\n",
        "    plt.show()"
      ]
    },
    {
      "cell_type": "code",
      "execution_count": 6,
      "metadata": {
        "id": "0ghBUM2D0VDB"
      },
      "outputs": [],
      "source": [
        "def save_gif(training_progress_images, images):\n",
        "    '''\n",
        "        training_progress_images: list of training images generated each iteration\n",
        "        images: image that is generated in this iteration\n",
        "    '''\n",
        "    img_grid = make_grid(images.data)\n",
        "    img_grid = np.transpose(img_grid.detach().cpu().numpy(), (1, 2, 0))\n",
        "    img_grid = 255. * img_grid \n",
        "    img_grid = img_grid.astype(np.uint8)\n",
        "    training_progress_images.append(img_grid)\n",
        "    imageio.mimsave('./img/training_progress.gif', training_progress_images)\n",
        "    return training_progress_images"
      ]
    },
    {
      "cell_type": "code",
      "execution_count": 7,
      "metadata": {
        "id": "9bJZfj1g0VDB"
      },
      "outputs": [],
      "source": [
        "# visualize gif file\n",
        "def vis_gif(training_progress_images):\n",
        "    fig = plt.figure()\n",
        "    \n",
        "    ims = []\n",
        "    for i in range(len(training_progress_images)):\n",
        "        im = plt.imshow(training_progress_images[i], animated=True)\n",
        "        ims.append([im])\n",
        "\n",
        "    ani = animation.ArtistAnimation(fig, ims, interval=50, blit=True, repeat_delay=1000)\n",
        "    \n",
        "    html = ani.to_html5_video()\n",
        "    HTML(html)"
      ]
    },
    {
      "cell_type": "code",
      "execution_count": 8,
      "metadata": {
        "id": "SgIFVWhS0VDC"
      },
      "outputs": [],
      "source": [
        "# visualize gif file\n",
        "def plot_gif(training_progress_images, plot_length=10):\n",
        "    plt.close()\n",
        "    fig = plt.figure()\n",
        "    \n",
        "    total_len = len(training_progress_images)\n",
        "    for i in range(plot_length):\n",
        "        im = plt.imshow(training_progress_images[int(total_len/plot_length)*i])\n",
        "        plt.show()"
      ]
    },
    {
      "cell_type": "code",
      "execution_count": 9,
      "metadata": {
        "id": "xFk-3KTU0VDC"
      },
      "outputs": [],
      "source": [
        "def save_image_list(dataset, real):\n",
        "    if real:\n",
        "        base_path = './img/real'\n",
        "    else:\n",
        "        base_path = './img/fake'\n",
        "    \n",
        "    dataset_path = []\n",
        "    \n",
        "    for i in range(len(dataset)):\n",
        "        save_path =  f'{base_path}/image_{i}.png'\n",
        "        dataset_path.append(save_path)\n",
        "        vutils.save_image(dataset[i], save_path)\n",
        "    \n",
        "    return base_path"
      ]
    },
    {
      "cell_type": "markdown",
      "metadata": {
        "id": "YUHchXYf0VDC"
      },
      "source": [
        "### 0.3. Prelim step 3: Load dataset, define dataloader"
      ]
    },
    {
      "cell_type": "markdown",
      "metadata": {
        "id": "jgQi4Ox70VDC"
      },
      "source": [
        "![picture](https://drive.google.com/uc?id=1kdig6RLSCvYJNqarbb8gviYsnxZfSkYQ)"
      ]
    },
    {
      "cell_type": "markdown",
      "metadata": {
        "id": "QDk61H3L0VDC"
      },
      "source": [
        "\n",
        "In this class we will use **MNIST** (or you can use **Fashion-MNIST**) due to the time constraint :( \\\n",
        "You can practice with CIFAR-10 by your-self since dataset is already implemented inside PyTorch!\n",
        "- Simply use `dataset=dset.CIFAR10(.)` function in PyTorch.\n",
        "- If you are using CIFAR dataset, please note that the resolution is different to MNIST and should change model input dimension."
      ]
    },
    {
      "cell_type": "code",
      "execution_count": 10,
      "metadata": {
        "colab": {
          "base_uri": "https://localhost:8080/",
          "height": 489,
          "referenced_widgets": [
            "1d48546f6e694b55800c40dcbdc4f647",
            "0ee2af672e774b55968ca7ba89f67277",
            "acd63eb3c8e34683b8fbc7c5c82511fe",
            "6710264c47854815b7e0279e73f12182",
            "bcbf18269fb24dd99e52852538004013",
            "5cecc6c1b2ad4d50ac2f4b176988ab68",
            "df50d13094324e0f908b2a419f8f1950",
            "68b47f16ae064fc5993e7f26e63bd2c6",
            "d220fa568d324c519316c1a71ce3f332",
            "46f16e3e4aa9413fbcebd1b0fbd45921",
            "ebe51c95b80047a2890f371bd6fc3607",
            "cf909c2f22c74ab79d9f0748fad92cc8",
            "7bd1a1344e104f86ac290281fa986d6a",
            "5e7f37a5ac3f49e4959d799c26ce095e",
            "9219d49b9b5a4913986de9b8d14919b6",
            "63251ee0e57a4b58a7b3b8cdb6aa45da",
            "a15c278bb24d4655880f7706f60a5fc9",
            "1d74fd1dcbc54e67b64a4916097405ef",
            "c6aa92525157470da43a2eb9be825f97",
            "80fc0e1b30ad486787526717ef3e161a",
            "37613a06528047ef9d06d9faaad6369b",
            "ae01aed865f44779a8f36c0fa4f03b62",
            "33212016b5944c8fba51c77e785fa749",
            "d35b0962865e443299fc682119a01e4e",
            "9f72a3cf22e0498ab91b67589efa9ff8",
            "184a9aab8b4b49ab9020d787d02e9ed4",
            "fde7be78c8cb4047806ad6ec6c331510",
            "35a831a27cb94988bd031b1d050bedf0",
            "45997127df2b4a1eaddd086a2895df3f",
            "782c7c3163ef450cad7e5bd5ea410ec3",
            "9bd8e73468874dbc9a6733f7d9d2a06e",
            "9670ad0b299f442dae4b9ae7c1f49b20",
            "b257747bb3804356b59b5be37b17920f",
            "f2ccfcbaafcc4e8a815b13f058ae184a",
            "b4942a342c234f53839c17614418c2da",
            "5c08f2f456334674999a0946469a44e1",
            "c582151ba06e40a69a54780f0223a82d",
            "67dba3ce5583496da846416cf1c95882",
            "d61086efe4cd41d2a509fca4345ac669",
            "4df66c97e86d4ea5b87395f885457a65",
            "407ed7389f93415ab37b2dc51e498fa3",
            "26d626d7a54b49889db4f2d86ff61d44",
            "dacab51e49444fb69e489582ee673f95",
            "fb3d926652a94728a52e0294c1f8f3a9"
          ]
        },
        "id": "nkJiP4Jm0VDC",
        "outputId": "ebdbe208-3e04-4314-d27f-78020f7e4171"
      },
      "outputs": [
        {
          "name": "stdout",
          "output_type": "stream",
          "text": [
            "Downloading http://yann.lecun.com/exdb/mnist/train-images-idx3-ubyte.gz\n",
            "Downloading http://yann.lecun.com/exdb/mnist/train-images-idx3-ubyte.gz to ./dataset/MNIST/raw/train-images-idx3-ubyte.gz\n"
          ]
        },
        {
          "data": {
            "application/vnd.jupyter.widget-view+json": {
              "model_id": "1d48546f6e694b55800c40dcbdc4f647",
              "version_major": 2,
              "version_minor": 0
            },
            "text/plain": [
              "  0%|          | 0/9912422 [00:00<?, ?it/s]"
            ]
          },
          "metadata": {},
          "output_type": "display_data"
        },
        {
          "name": "stdout",
          "output_type": "stream",
          "text": [
            "Extracting ./dataset/MNIST/raw/train-images-idx3-ubyte.gz to ./dataset/MNIST/raw\n",
            "\n",
            "Downloading http://yann.lecun.com/exdb/mnist/train-labels-idx1-ubyte.gz\n",
            "Downloading http://yann.lecun.com/exdb/mnist/train-labels-idx1-ubyte.gz to ./dataset/MNIST/raw/train-labels-idx1-ubyte.gz\n"
          ]
        },
        {
          "data": {
            "application/vnd.jupyter.widget-view+json": {
              "model_id": "cf909c2f22c74ab79d9f0748fad92cc8",
              "version_major": 2,
              "version_minor": 0
            },
            "text/plain": [
              "  0%|          | 0/28881 [00:00<?, ?it/s]"
            ]
          },
          "metadata": {},
          "output_type": "display_data"
        },
        {
          "name": "stdout",
          "output_type": "stream",
          "text": [
            "Extracting ./dataset/MNIST/raw/train-labels-idx1-ubyte.gz to ./dataset/MNIST/raw\n",
            "\n",
            "Downloading http://yann.lecun.com/exdb/mnist/t10k-images-idx3-ubyte.gz\n",
            "Downloading http://yann.lecun.com/exdb/mnist/t10k-images-idx3-ubyte.gz to ./dataset/MNIST/raw/t10k-images-idx3-ubyte.gz\n"
          ]
        },
        {
          "data": {
            "application/vnd.jupyter.widget-view+json": {
              "model_id": "33212016b5944c8fba51c77e785fa749",
              "version_major": 2,
              "version_minor": 0
            },
            "text/plain": [
              "  0%|          | 0/1648877 [00:00<?, ?it/s]"
            ]
          },
          "metadata": {},
          "output_type": "display_data"
        },
        {
          "name": "stdout",
          "output_type": "stream",
          "text": [
            "Extracting ./dataset/MNIST/raw/t10k-images-idx3-ubyte.gz to ./dataset/MNIST/raw\n",
            "\n",
            "Downloading http://yann.lecun.com/exdb/mnist/t10k-labels-idx1-ubyte.gz\n",
            "Downloading http://yann.lecun.com/exdb/mnist/t10k-labels-idx1-ubyte.gz to ./dataset/MNIST/raw/t10k-labels-idx1-ubyte.gz\n"
          ]
        },
        {
          "data": {
            "application/vnd.jupyter.widget-view+json": {
              "model_id": "f2ccfcbaafcc4e8a815b13f058ae184a",
              "version_major": 2,
              "version_minor": 0
            },
            "text/plain": [
              "  0%|          | 0/4542 [00:00<?, ?it/s]"
            ]
          },
          "metadata": {},
          "output_type": "display_data"
        },
        {
          "name": "stdout",
          "output_type": "stream",
          "text": [
            "Extracting ./dataset/MNIST/raw/t10k-labels-idx1-ubyte.gz to ./dataset/MNIST/raw\n",
            "\n"
          ]
        },
        {
          "name": "stderr",
          "output_type": "stream",
          "text": [
            "/usr/local/lib/python3.7/dist-packages/torchvision/datasets/mnist.py:498: UserWarning: The given NumPy array is not writeable, and PyTorch does not support non-writeable tensors. This means you can write to the underlying (supposedly non-writeable) NumPy array using the tensor. You may want to copy the array to protect its data or make it writeable before converting it to a tensor. This type of warning will be suppressed for the rest of this program. (Triggered internally at  /pytorch/torch/csrc/utils/tensor_numpy.cpp:180.)\n",
            "  return torch.from_numpy(parsed.astype(m[2], copy=False)).view(*s)\n"
          ]
        }
      ],
      "source": [
        "dataset = dset.MNIST(root=\"./dataset\", download=True,\n",
        "                                   transform=transforms.Compose([\n",
        "                                   transforms.ToTensor(),\n",
        "                ]))\n",
        "# If you want to download FMNIST use dset.FashionMNIST\n",
        "# dataset = dset.FashionMNIST(.)\n",
        "\n",
        "dataloader = torch.utils.data.DataLoader(dataset, batch_size=128, shuffle=True, num_workers=2)"
      ]
    },
    {
      "cell_type": "markdown",
      "metadata": {
        "id": "Yk-wVR8u0VDD"
      },
      "source": [
        "## 1. Define your generator & discriminator"
      ]
    },
    {
      "cell_type": "markdown",
      "metadata": {
        "id": "QaFklS6z0VDD"
      },
      "source": [
        "### 1.1. Define generator module"
      ]
    },
    {
      "cell_type": "code",
      "execution_count": 11,
      "metadata": {
        "id": "nIuwOuwC0VDD"
      },
      "outputs": [],
      "source": [
        "class Generator(nn.Module):\n",
        "    def __init__(self):\n",
        "        super(Generator, self).__init__()\n",
        "        self.main = nn.Sequential(\n",
        "            #########################\n",
        "            # Define your own generator #\n",
        "            #########################\n",
        "            \n",
        "            nn.Linear(100, 256),\n",
        "            nn.ReLU(),\n",
        "            nn.Linear(256, 256),\n",
        "            nn.ReLU(),\n",
        "            nn.Linear(256, 784),\n",
        "            nn.Sigmoid(), # 0 - 1\n",
        "            \n",
        "            #########################\n",
        "        )\n",
        "\n",
        "    def forward(self, input):\n",
        "        #####################################\n",
        "        # Change the shape of output if necessary #\n",
        "        \n",
        "        # input shape = batch_size, 100\n",
        "        #####################################\n",
        "        \n",
        "        output = self.main(input)\n",
        "        \n",
        "        #####################################\n",
        "        # Change the shape of output if necessary #\n",
        "        \n",
        "        # output shape = batch_size, 1, 28, 28\n",
        "        output = output.view(-1, 1, 28, 28)\n",
        "        \n",
        "        #####################################\n",
        "        return output"
      ]
    },
    {
      "cell_type": "markdown",
      "metadata": {
        "id": "N5gzqmu20VDD"
      },
      "source": [
        "### 1.2. Define discriminator module"
      ]
    },
    {
      "cell_type": "code",
      "execution_count": 12,
      "metadata": {
        "id": "c043JJ3Z0VDD"
      },
      "outputs": [],
      "source": [
        "class Discriminator(nn.Module):\n",
        "    def __init__(self):\n",
        "        super(Discriminator, self).__init__()\n",
        "        self.main = nn.Sequential(\n",
        "            ############################\n",
        "            # Define your own discriminator #\n",
        "            ############################\n",
        "            \n",
        "            nn.Linear(28*28, 256),\n",
        "            nn.LeakyReLU(0.2),\n",
        "            nn.Linear(256, 256),\n",
        "            nn.LeakyReLU(0.2),\n",
        "            nn.Linear(256, 1),\n",
        "            nn.Sigmoid(),\n",
        "            \n",
        "            ############################\n",
        "        )\n",
        "\n",
        "    def forward(self, input):\n",
        "        #####################################\n",
        "        # Change the shape of output if necessary #\n",
        "        input = input.view(-1, 28*28)\n",
        "        #####################################\n",
        "        \n",
        "        output = self.main(input)\n",
        "        \n",
        "        #####################################\n",
        "        # Change the shape of output if necessary # (batch_size, 1) -> (batch_size, )\n",
        "        output = output.squeeze(dim=1)\n",
        "        #####################################\n",
        "        \n",
        "        return output"
      ]
    },
    {
      "cell_type": "code",
      "execution_count": 13,
      "metadata": {
        "colab": {
          "base_uri": "https://localhost:8080/"
        },
        "id": "GzJrnoqtF_sv",
        "outputId": "bc9029ee-0e19-49fe-a549-5781e5aae2b7"
      },
      "outputs": [
        {
          "data": {
            "text/plain": [
              "torch.Size([60000, 28, 28])"
            ]
          },
          "execution_count": 13,
          "metadata": {},
          "output_type": "execute_result"
        }
      ],
      "source": [
        "dataset.data.shape  # B, W, H"
      ]
    },
    {
      "cell_type": "markdown",
      "metadata": {
        "id": "aTa7qm9J0VDD"
      },
      "source": [
        "### 1.3. Upload on GPU, define optimizer"
      ]
    },
    {
      "cell_type": "code",
      "execution_count": 14,
      "metadata": {
        "id": "wJBarRnc0VDD"
      },
      "outputs": [],
      "source": [
        "netG = Generator().cuda()\n",
        "netD = Discriminator().cuda()\n",
        "\n",
        "optimizerD = optim.Adam(netD.parameters(), lr=0.0002)\n",
        "optimizerG = optim.Adam(netG.parameters(), lr=0.0002)"
      ]
    },
    {
      "cell_type": "markdown",
      "metadata": {
        "id": "YmYk_DpA0VDE"
      },
      "source": [
        "## 2. Noise sampling"
      ]
    },
    {
      "cell_type": "code",
      "execution_count": 15,
      "metadata": {
        "id": "ZI5TYfCv0VDE"
      },
      "outputs": [],
      "source": [
        "#### Implement here ####\n",
        "noise = torch.randn(128, 100).cuda()"
      ]
    },
    {
      "cell_type": "markdown",
      "metadata": {
        "id": "L-sNstd20VDE"
      },
      "source": [
        "## 3. Train GAN"
      ]
    },
    {
      "cell_type": "markdown",
      "metadata": {
        "id": "Z0E58Z-T0VDE"
      },
      "source": [
        "Implement GAN by filling out the following blankes!"
      ]
    },
    {
      "cell_type": "code",
      "execution_count": 26,
      "metadata": {
        "colab": {
          "base_uri": "https://localhost:8080/"
        },
        "id": "S2CNajv30VDE",
        "outputId": "716f5c9f-650a-48f0-96c5-d359a25da20e"
      },
      "outputs": [
        {
          "name": "stdout",
          "output_type": "stream",
          "text": [
            "[0/200] Loss_D: 0.0140 Loss_G: 6.1194 D(x): 0.9911 D(G(z)): 0.0043 / 0.0022\n",
            "[1/200] Loss_D: 0.0031 Loss_G: 6.9082 D(x): 0.9987 D(G(z)): 0.0018 / 0.0010\n",
            "[2/200] Loss_D: 0.0016 Loss_G: 7.5178 D(x): 0.9993 D(G(z)): 0.0009 / 0.0006\n",
            "[3/200] Loss_D: 0.0383 Loss_G: 6.4528 D(x): 0.9725 D(G(z)): 0.0040 / 0.0016\n",
            "[4/200] Loss_D: 0.0015 Loss_G: 7.8294 D(x): 0.9996 D(G(z)): 0.0011 / 0.0004\n",
            "[5/200] Loss_D: 0.0169 Loss_G: 6.1179 D(x): 0.9902 D(G(z)): 0.0037 / 0.0023\n",
            "[6/200] Loss_D: 0.0093 Loss_G: 5.6189 D(x): 0.9988 D(G(z)): 0.0081 / 0.0040\n",
            "[7/200] Loss_D: 0.0282 Loss_G: 5.7676 D(x): 0.9892 D(G(z)): 0.0157 / 0.0035\n",
            "[8/200] Loss_D: 0.0211 Loss_G: 7.7606 D(x): 0.9870 D(G(z)): 0.0004 / 0.0005\n",
            "[9/200] Loss_D: 0.0320 Loss_G: 6.3573 D(x): 0.9776 D(G(z)): 0.0048 / 0.0028\n",
            "[10/200] Loss_D: 0.0028 Loss_G: 7.8436 D(x): 0.9997 D(G(z)): 0.0024 / 0.0008\n",
            "[11/200] Loss_D: 0.0017 Loss_G: 7.7754 D(x): 0.9999 D(G(z)): 0.0016 / 0.0006\n",
            "[12/200] Loss_D: 0.0079 Loss_G: 5.8355 D(x): 0.9986 D(G(z)): 0.0064 / 0.0041\n",
            "[13/200] Loss_D: 0.0059 Loss_G: 9.0825 D(x): 0.9988 D(G(z)): 0.0046 / 0.0012\n",
            "[14/200] Loss_D: 0.0066 Loss_G: 6.7383 D(x): 0.9982 D(G(z)): 0.0046 / 0.0038\n",
            "[15/200] Loss_D: 0.0037 Loss_G: 6.8364 D(x): 1.0000 D(G(z)): 0.0036 / 0.0011\n",
            "[16/200] Loss_D: 0.0006 Loss_G: 9.1960 D(x): 0.9998 D(G(z)): 0.0005 / 0.0003\n",
            "[17/200] Loss_D: 0.0023 Loss_G: 8.6362 D(x): 0.9994 D(G(z)): 0.0017 / 0.0004\n",
            "[18/200] Loss_D: 0.0067 Loss_G: 6.6822 D(x): 0.9999 D(G(z)): 0.0065 / 0.0057\n",
            "[19/200] Loss_D: 0.0012 Loss_G: 8.7015 D(x): 0.9998 D(G(z)): 0.0011 / 0.0003\n",
            "[20/200] Loss_D: 0.0007 Loss_G: 9.0128 D(x): 1.0000 D(G(z)): 0.0007 / 0.0002\n",
            "[21/200] Loss_D: 0.0071 Loss_G: 8.6998 D(x): 1.0000 D(G(z)): 0.0068 / 0.0020\n",
            "[22/200] Loss_D: 0.0032 Loss_G: 7.5173 D(x): 0.9998 D(G(z)): 0.0030 / 0.0009\n",
            "[23/200] Loss_D: 0.0331 Loss_G: 5.9450 D(x): 0.9947 D(G(z)): 0.0260 / 0.0054\n",
            "[24/200] Loss_D: 0.0366 Loss_G: 7.0648 D(x): 0.9997 D(G(z)): 0.0323 / 0.0021\n",
            "[25/200] Loss_D: 0.0026 Loss_G: 7.5842 D(x): 0.9998 D(G(z)): 0.0025 / 0.0007\n",
            "[26/200] Loss_D: 0.0147 Loss_G: 7.6489 D(x): 0.9908 D(G(z)): 0.0026 / 0.0007\n",
            "[27/200] Loss_D: 0.0002 Loss_G: 12.9828 D(x): 1.0000 D(G(z)): 0.0002 / 0.0000\n",
            "[28/200] Loss_D: 0.0016 Loss_G: 10.6534 D(x): 1.0000 D(G(z)): 0.0016 / 0.0006\n",
            "[29/200] Loss_D: 0.0049 Loss_G: 8.2405 D(x): 0.9985 D(G(z)): 0.0033 / 0.0010\n",
            "[30/200] Loss_D: 0.0171 Loss_G: 7.6458 D(x): 1.0000 D(G(z)): 0.0162 / 0.0015\n",
            "[31/200] Loss_D: 0.0025 Loss_G: 9.9321 D(x): 0.9988 D(G(z)): 0.0013 / 0.0005\n",
            "[32/200] Loss_D: 0.0014 Loss_G: 11.0355 D(x): 1.0000 D(G(z)): 0.0014 / 0.0002\n",
            "[33/200] Loss_D: 0.1168 Loss_G: 8.3404 D(x): 0.9800 D(G(z)): 0.0030 / 0.0009\n",
            "[34/200] Loss_D: 0.0005 Loss_G: 11.6619 D(x): 1.0000 D(G(z)): 0.0005 / 0.0002\n",
            "[35/200] Loss_D: 0.0457 Loss_G: 7.0418 D(x): 0.9923 D(G(z)): 0.0307 / 0.0134\n",
            "[36/200] Loss_D: 0.0053 Loss_G: 6.2925 D(x): 0.9999 D(G(z)): 0.0052 / 0.0026\n",
            "[37/200] Loss_D: 0.0005 Loss_G: 10.6875 D(x): 0.9999 D(G(z)): 0.0004 / 0.0001\n",
            "[38/200] Loss_D: 0.0048 Loss_G: 6.7400 D(x): 0.9997 D(G(z)): 0.0044 / 0.0051\n",
            "[39/200] Loss_D: 0.0036 Loss_G: 9.9372 D(x): 0.9979 D(G(z)): 0.0014 / 0.0009\n",
            "[40/200] Loss_D: 0.0024 Loss_G: 11.8247 D(x): 0.9994 D(G(z)): 0.0018 / 0.0009\n",
            "[41/200] Loss_D: 0.0131 Loss_G: 6.9131 D(x): 0.9996 D(G(z)): 0.0121 / 0.0054\n",
            "[42/200] Loss_D: 0.0484 Loss_G: 8.4697 D(x): 0.9979 D(G(z)): 0.0307 / 0.0032\n",
            "[43/200] Loss_D: 0.0092 Loss_G: 8.0772 D(x): 0.9991 D(G(z)): 0.0074 / 0.0037\n",
            "[44/200] Loss_D: 0.1056 Loss_G: 12.9175 D(x): 0.9635 D(G(z)): 0.0002 / 0.0002\n",
            "[45/200] Loss_D: 0.0115 Loss_G: 6.1883 D(x): 0.9974 D(G(z)): 0.0086 / 0.0055\n",
            "[46/200] Loss_D: 0.0119 Loss_G: 8.7393 D(x): 0.9945 D(G(z)): 0.0057 / 0.0012\n",
            "[47/200] Loss_D: 0.0224 Loss_G: 6.7151 D(x): 0.9961 D(G(z)): 0.0164 / 0.0089\n",
            "[48/200] Loss_D: 0.0087 Loss_G: 9.7268 D(x): 0.9931 D(G(z)): 0.0004 / 0.0002\n",
            "[49/200] Loss_D: 0.0160 Loss_G: 7.8381 D(x): 0.9973 D(G(z)): 0.0120 / 0.0050\n",
            "[50/200] Loss_D: 0.0108 Loss_G: 9.9849 D(x): 0.9922 D(G(z)): 0.0010 / 0.0005\n",
            "[51/200] Loss_D: 0.0673 Loss_G: 7.8632 D(x): 0.9697 D(G(z)): 0.0062 / 0.0041\n",
            "[52/200] Loss_D: 0.0046 Loss_G: 7.3254 D(x): 0.9997 D(G(z)): 0.0042 / 0.0020\n",
            "[53/200] Loss_D: 0.0020 Loss_G: 9.7934 D(x): 0.9996 D(G(z)): 0.0016 / 0.0002\n",
            "[54/200] Loss_D: 0.0190 Loss_G: 9.1931 D(x): 0.9969 D(G(z)): 0.0147 / 0.0024\n",
            "[55/200] Loss_D: 0.0029 Loss_G: 8.1727 D(x): 0.9995 D(G(z)): 0.0024 / 0.0010\n",
            "[56/200] Loss_D: 0.0672 Loss_G: 6.2221 D(x): 0.9750 D(G(z)): 0.0104 / 0.0072\n",
            "[57/200] Loss_D: 0.0411 Loss_G: 6.6930 D(x): 0.9970 D(G(z)): 0.0313 / 0.0077\n",
            "[58/200] Loss_D: 0.0804 Loss_G: 7.5330 D(x): 0.9803 D(G(z)): 0.0224 / 0.0181\n",
            "[59/200] Loss_D: 0.0746 Loss_G: 7.9525 D(x): 0.9806 D(G(z)): 0.0063 / 0.0025\n",
            "[60/200] Loss_D: 0.0005 Loss_G: 11.4830 D(x): 0.9996 D(G(z)): 0.0001 / 0.0001\n",
            "[61/200] Loss_D: 0.0774 Loss_G: 7.4614 D(x): 0.9848 D(G(z)): 0.0288 / 0.0165\n",
            "[62/200] Loss_D: 0.1756 Loss_G: 6.9942 D(x): 0.9607 D(G(z)): 0.0138 / 0.0079\n",
            "[63/200] Loss_D: 0.1294 Loss_G: 8.2749 D(x): 0.9552 D(G(z)): 0.0036 / 0.0018\n",
            "[64/200] Loss_D: 0.0207 Loss_G: 9.5246 D(x): 0.9989 D(G(z)): 0.0150 / 0.0066\n",
            "[65/200] Loss_D: 0.1243 Loss_G: 7.7583 D(x): 0.9830 D(G(z)): 0.0273 / 0.0202\n",
            "[66/200] Loss_D: 0.0106 Loss_G: 6.8650 D(x): 0.9996 D(G(z)): 0.0099 / 0.0059\n",
            "[67/200] Loss_D: 0.0030 Loss_G: 8.4697 D(x): 0.9994 D(G(z)): 0.0025 / 0.0011\n",
            "[68/200] Loss_D: 0.0402 Loss_G: 7.0186 D(x): 0.9840 D(G(z)): 0.0083 / 0.0090\n",
            "[69/200] Loss_D: 0.0613 Loss_G: 7.3158 D(x): 0.9688 D(G(z)): 0.0060 / 0.0039\n",
            "[70/200] Loss_D: 0.0092 Loss_G: 8.5916 D(x): 0.9963 D(G(z)): 0.0049 / 0.0018\n",
            "[71/200] Loss_D: 0.0071 Loss_G: 8.0290 D(x): 0.9985 D(G(z)): 0.0054 / 0.0025\n",
            "[72/200] Loss_D: 0.1195 Loss_G: 7.4343 D(x): 0.9766 D(G(z)): 0.0308 / 0.0110\n",
            "[73/200] Loss_D: 0.0493 Loss_G: 6.5066 D(x): 0.9820 D(G(z)): 0.0222 / 0.0115\n",
            "[74/200] Loss_D: 0.1042 Loss_G: 5.3353 D(x): 0.9766 D(G(z)): 0.0350 / 0.0271\n",
            "[75/200] Loss_D: 0.0317 Loss_G: 5.9561 D(x): 0.9904 D(G(z)): 0.0188 / 0.0127\n",
            "[76/200] Loss_D: 0.0434 Loss_G: 5.7157 D(x): 0.9989 D(G(z)): 0.0384 / 0.0214\n",
            "[77/200] Loss_D: 0.0199 Loss_G: 6.8704 D(x): 0.9987 D(G(z)): 0.0178 / 0.0069\n",
            "[78/200] Loss_D: 0.0540 Loss_G: 8.4130 D(x): 0.9806 D(G(z)): 0.0039 / 0.0026\n",
            "[79/200] Loss_D: 0.0518 Loss_G: 8.0617 D(x): 0.9724 D(G(z)): 0.0090 / 0.0018\n",
            "[80/200] Loss_D: 0.1209 Loss_G: 5.6142 D(x): 0.9837 D(G(z)): 0.0697 / 0.0299\n",
            "[81/200] Loss_D: 0.1195 Loss_G: 5.4109 D(x): 0.9648 D(G(z)): 0.0217 / 0.0230\n",
            "[82/200] Loss_D: 0.3907 Loss_G: 6.9014 D(x): 0.9490 D(G(z)): 0.0393 / 0.0311\n",
            "[83/200] Loss_D: 0.1947 Loss_G: 6.2409 D(x): 0.9381 D(G(z)): 0.0360 / 0.0244\n",
            "[84/200] Loss_D: 0.3885 Loss_G: 3.5843 D(x): 0.9539 D(G(z)): 0.1435 / 0.1301\n",
            "[85/200] Loss_D: 0.0991 Loss_G: 4.9944 D(x): 0.9458 D(G(z)): 0.0202 / 0.0223\n",
            "[86/200] Loss_D: 0.1106 Loss_G: 4.8399 D(x): 0.9733 D(G(z)): 0.0490 / 0.0357\n",
            "[87/200] Loss_D: 0.0160 Loss_G: 6.8005 D(x): 0.9931 D(G(z)): 0.0083 / 0.0052\n",
            "[88/200] Loss_D: 0.1068 Loss_G: 5.9427 D(x): 0.9728 D(G(z)): 0.0318 / 0.0184\n",
            "[89/200] Loss_D: 0.0693 Loss_G: 6.2304 D(x): 0.9600 D(G(z)): 0.0103 / 0.0074\n",
            "[90/200] Loss_D: 0.1059 Loss_G: 6.2544 D(x): 0.9531 D(G(z)): 0.0136 / 0.0069\n",
            "[91/200] Loss_D: 0.1428 Loss_G: 5.5316 D(x): 0.9488 D(G(z)): 0.0504 / 0.0262\n",
            "[92/200] Loss_D: 0.0455 Loss_G: 7.3327 D(x): 0.9667 D(G(z)): 0.0057 / 0.0027\n",
            "[93/200] Loss_D: 0.0600 Loss_G: 6.5736 D(x): 0.9732 D(G(z)): 0.0234 / 0.0102\n",
            "[94/200] Loss_D: 0.0890 Loss_G: 5.1675 D(x): 0.9947 D(G(z)): 0.0696 / 0.0379\n",
            "[95/200] Loss_D: 0.2535 Loss_G: 6.8649 D(x): 0.9486 D(G(z)): 0.0075 / 0.0044\n",
            "[96/200] Loss_D: 0.0646 Loss_G: 4.9119 D(x): 0.9783 D(G(z)): 0.0369 / 0.0253\n",
            "[97/200] Loss_D: 0.2507 Loss_G: 4.7361 D(x): 0.9523 D(G(z)): 0.0806 / 0.0386\n",
            "[98/200] Loss_D: 0.1201 Loss_G: 5.8127 D(x): 0.9587 D(G(z)): 0.0398 / 0.0307\n",
            "[99/200] Loss_D: 0.1011 Loss_G: 5.5121 D(x): 0.9704 D(G(z)): 0.0463 / 0.0330\n",
            "[100/200] Loss_D: 0.1155 Loss_G: 5.8457 D(x): 0.9478 D(G(z)): 0.0170 / 0.0127\n",
            "[101/200] Loss_D: 0.3012 Loss_G: 5.8921 D(x): 0.8795 D(G(z)): 0.0193 / 0.0222\n",
            "[102/200] Loss_D: 0.1878 Loss_G: 4.9747 D(x): 0.9477 D(G(z)): 0.0754 / 0.0347\n",
            "[103/200] Loss_D: 0.3476 Loss_G: 5.8595 D(x): 0.8944 D(G(z)): 0.0370 / 0.0240\n",
            "[104/200] Loss_D: 0.2797 Loss_G: 6.0214 D(x): 0.9072 D(G(z)): 0.0197 / 0.0157\n",
            "[105/200] Loss_D: 0.1496 Loss_G: 4.2892 D(x): 0.9680 D(G(z)): 0.0658 / 0.0438\n",
            "[106/200] Loss_D: 0.1928 Loss_G: 4.8214 D(x): 0.9533 D(G(z)): 0.0653 / 0.0372\n",
            "[107/200] Loss_D: 0.3062 Loss_G: 4.4557 D(x): 0.9948 D(G(z)): 0.1783 / 0.0613\n",
            "[108/200] Loss_D: 0.1830 Loss_G: 5.8940 D(x): 0.9154 D(G(z)): 0.0249 / 0.0155\n",
            "[109/200] Loss_D: 0.1977 Loss_G: 5.2646 D(x): 0.9395 D(G(z)): 0.0675 / 0.0305\n",
            "[110/200] Loss_D: 0.2698 Loss_G: 5.0039 D(x): 0.9189 D(G(z)): 0.0519 / 0.0441\n",
            "[111/200] Loss_D: 0.2991 Loss_G: 4.6671 D(x): 0.9372 D(G(z)): 0.1135 / 0.0513\n",
            "[112/200] Loss_D: 0.2323 Loss_G: 4.8219 D(x): 0.9079 D(G(z)): 0.0588 / 0.0462\n",
            "[113/200] Loss_D: 0.1719 Loss_G: 4.0829 D(x): 0.9613 D(G(z)): 0.0605 / 0.0526\n",
            "[114/200] Loss_D: 0.3453 Loss_G: 5.3007 D(x): 0.9229 D(G(z)): 0.0778 / 0.0448\n",
            "[115/200] Loss_D: 0.2537 Loss_G: 4.4197 D(x): 0.9439 D(G(z)): 0.1029 / 0.0705\n",
            "[116/200] Loss_D: 0.2751 Loss_G: 4.5866 D(x): 0.9028 D(G(z)): 0.0343 / 0.0297\n",
            "[117/200] Loss_D: 0.2996 Loss_G: 4.0654 D(x): 0.8901 D(G(z)): 0.0700 / 0.0741\n",
            "[118/200] Loss_D: 0.1697 Loss_G: 5.0978 D(x): 0.9198 D(G(z)): 0.0432 / 0.0335\n",
            "[119/200] Loss_D: 0.2737 Loss_G: 3.4703 D(x): 0.9309 D(G(z)): 0.1069 / 0.1112\n",
            "[120/200] Loss_D: 0.1930 Loss_G: 4.4473 D(x): 0.9125 D(G(z)): 0.0425 / 0.0420\n",
            "[121/200] Loss_D: 0.2205 Loss_G: 4.7740 D(x): 0.9244 D(G(z)): 0.0526 / 0.0427\n",
            "[122/200] Loss_D: 0.1424 Loss_G: 4.9653 D(x): 0.9479 D(G(z)): 0.0516 / 0.0318\n",
            "[123/200] Loss_D: 0.2706 Loss_G: 4.2224 D(x): 0.9017 D(G(z)): 0.0615 / 0.0564\n",
            "[124/200] Loss_D: 0.2745 Loss_G: 4.6570 D(x): 0.9317 D(G(z)): 0.0671 / 0.0517\n",
            "[125/200] Loss_D: 0.3509 Loss_G: 3.1239 D(x): 0.9355 D(G(z)): 0.1677 / 0.1116\n",
            "[126/200] Loss_D: 0.3780 Loss_G: 4.3282 D(x): 0.9053 D(G(z)): 0.0788 / 0.0704\n",
            "[127/200] Loss_D: 0.3004 Loss_G: 3.6128 D(x): 0.9102 D(G(z)): 0.1107 / 0.0942\n",
            "[128/200] Loss_D: 0.3034 Loss_G: 3.3765 D(x): 0.8946 D(G(z)): 0.1039 / 0.0893\n",
            "[129/200] Loss_D: 0.2629 Loss_G: 4.3516 D(x): 0.9128 D(G(z)): 0.0505 / 0.0501\n",
            "[130/200] Loss_D: 0.3054 Loss_G: 4.2288 D(x): 0.8741 D(G(z)): 0.0631 / 0.0526\n",
            "[131/200] Loss_D: 0.2583 Loss_G: 3.5365 D(x): 0.9145 D(G(z)): 0.1113 / 0.0888\n",
            "[132/200] Loss_D: 0.1920 Loss_G: 3.9172 D(x): 0.9107 D(G(z)): 0.0614 / 0.0592\n",
            "[133/200] Loss_D: 0.6241 Loss_G: 3.8601 D(x): 0.7901 D(G(z)): 0.0847 / 0.0796\n",
            "[134/200] Loss_D: 0.5590 Loss_G: 2.8551 D(x): 0.8546 D(G(z)): 0.1592 / 0.1467\n",
            "[135/200] Loss_D: 0.5065 Loss_G: 3.7456 D(x): 0.8007 D(G(z)): 0.0702 / 0.0799\n",
            "[136/200] Loss_D: 0.3892 Loss_G: 2.9120 D(x): 0.8942 D(G(z)): 0.1505 / 0.1471\n",
            "[137/200] Loss_D: 0.4753 Loss_G: 3.3796 D(x): 0.9036 D(G(z)): 0.1664 / 0.1253\n",
            "[138/200] Loss_D: 0.5683 Loss_G: 2.9972 D(x): 0.8238 D(G(z)): 0.1572 / 0.1144\n",
            "[139/200] Loss_D: 0.5048 Loss_G: 2.6760 D(x): 0.9008 D(G(z)): 0.1998 / 0.1911\n",
            "[140/200] Loss_D: 0.3704 Loss_G: 2.9814 D(x): 0.8879 D(G(z)): 0.1521 / 0.1191\n",
            "[141/200] Loss_D: 0.4349 Loss_G: 3.4060 D(x): 0.8503 D(G(z)): 0.1108 / 0.1084\n",
            "[142/200] Loss_D: 0.4888 Loss_G: 2.6546 D(x): 0.8871 D(G(z)): 0.2008 / 0.1553\n",
            "[143/200] Loss_D: 0.3297 Loss_G: 3.4556 D(x): 0.8708 D(G(z)): 0.1065 / 0.0793\n",
            "[144/200] Loss_D: 0.5508 Loss_G: 3.0267 D(x): 0.8314 D(G(z)): 0.1312 / 0.1235\n",
            "[145/200] Loss_D: 0.2895 Loss_G: 3.4877 D(x): 0.9119 D(G(z)): 0.1251 / 0.0994\n",
            "[146/200] Loss_D: 0.3417 Loss_G: 3.6968 D(x): 0.8650 D(G(z)): 0.0873 / 0.0751\n",
            "[147/200] Loss_D: 0.5000 Loss_G: 2.8124 D(x): 0.8760 D(G(z)): 0.1628 / 0.1681\n",
            "[148/200] Loss_D: 0.3025 Loss_G: 3.0746 D(x): 0.9095 D(G(z)): 0.1285 / 0.1059\n",
            "[149/200] Loss_D: 0.4309 Loss_G: 4.3343 D(x): 0.8514 D(G(z)): 0.1082 / 0.0823\n",
            "[150/200] Loss_D: 0.5245 Loss_G: 2.6514 D(x): 0.8488 D(G(z)): 0.1659 / 0.1653\n",
            "[151/200] Loss_D: 0.4507 Loss_G: 2.3523 D(x): 0.8716 D(G(z)): 0.1935 / 0.1621\n",
            "[152/200] Loss_D: 0.5757 Loss_G: 2.6596 D(x): 0.8712 D(G(z)): 0.2086 / 0.1742\n",
            "[153/200] Loss_D: 0.5363 Loss_G: 3.1190 D(x): 0.8336 D(G(z)): 0.1618 / 0.1049\n",
            "[154/200] Loss_D: 0.5806 Loss_G: 2.3159 D(x): 0.8650 D(G(z)): 0.2388 / 0.2081\n",
            "[155/200] Loss_D: 0.7896 Loss_G: 2.7012 D(x): 0.8639 D(G(z)): 0.2770 / 0.2077\n",
            "[156/200] Loss_D: 0.3575 Loss_G: 2.6676 D(x): 0.8401 D(G(z)): 0.0968 / 0.1363\n",
            "[157/200] Loss_D: 0.3677 Loss_G: 3.0189 D(x): 0.8829 D(G(z)): 0.1418 / 0.1141\n",
            "[158/200] Loss_D: 0.3806 Loss_G: 3.0320 D(x): 0.8882 D(G(z)): 0.1512 / 0.1067\n",
            "[159/200] Loss_D: 0.4710 Loss_G: 2.9337 D(x): 0.8899 D(G(z)): 0.1871 / 0.1509\n",
            "[160/200] Loss_D: 0.4226 Loss_G: 3.4891 D(x): 0.8501 D(G(z)): 0.0751 / 0.0772\n",
            "[161/200] Loss_D: 0.5753 Loss_G: 2.2879 D(x): 0.8731 D(G(z)): 0.2426 / 0.2156\n",
            "[162/200] Loss_D: 0.4552 Loss_G: 2.3933 D(x): 0.8317 D(G(z)): 0.1256 / 0.1604\n",
            "[163/200] Loss_D: 0.3585 Loss_G: 3.4049 D(x): 0.8664 D(G(z)): 0.0969 / 0.0864\n",
            "[164/200] Loss_D: 0.6839 Loss_G: 2.9321 D(x): 0.7768 D(G(z)): 0.1682 / 0.1555\n",
            "[165/200] Loss_D: 0.5864 Loss_G: 2.7294 D(x): 0.7766 D(G(z)): 0.1596 / 0.1550\n",
            "[166/200] Loss_D: 0.5599 Loss_G: 3.2897 D(x): 0.7776 D(G(z)): 0.1368 / 0.1212\n",
            "[167/200] Loss_D: 0.4430 Loss_G: 2.9400 D(x): 0.8717 D(G(z)): 0.1684 / 0.1574\n",
            "[168/200] Loss_D: 0.6651 Loss_G: 2.6168 D(x): 0.8178 D(G(z)): 0.1587 / 0.1749\n",
            "[169/200] Loss_D: 0.5158 Loss_G: 2.5777 D(x): 0.8375 D(G(z)): 0.1911 / 0.1575\n",
            "[170/200] Loss_D: 0.5445 Loss_G: 2.3056 D(x): 0.8351 D(G(z)): 0.2080 / 0.1808\n",
            "[171/200] Loss_D: 0.8215 Loss_G: 3.3147 D(x): 0.7249 D(G(z)): 0.1290 / 0.1118\n",
            "[172/200] Loss_D: 0.3268 Loss_G: 2.5891 D(x): 0.9581 D(G(z)): 0.1905 / 0.1565\n",
            "[173/200] Loss_D: 0.4432 Loss_G: 2.7924 D(x): 0.8132 D(G(z)): 0.1218 / 0.1195\n",
            "[174/200] Loss_D: 0.6053 Loss_G: 2.8362 D(x): 0.7328 D(G(z)): 0.1088 / 0.1441\n",
            "[175/200] Loss_D: 0.4746 Loss_G: 2.7386 D(x): 0.8098 D(G(z)): 0.1197 / 0.1203\n",
            "[176/200] Loss_D: 0.4376 Loss_G: 2.3064 D(x): 0.8863 D(G(z)): 0.1692 / 0.1806\n",
            "[177/200] Loss_D: 0.2836 Loss_G: 3.4211 D(x): 0.9301 D(G(z)): 0.1190 / 0.0939\n",
            "[178/200] Loss_D: 0.4827 Loss_G: 2.5949 D(x): 0.9234 D(G(z)): 0.2000 / 0.1658\n",
            "[179/200] Loss_D: 0.5360 Loss_G: 2.8698 D(x): 0.7588 D(G(z)): 0.0997 / 0.1317\n",
            "[180/200] Loss_D: 0.4644 Loss_G: 3.1710 D(x): 0.8118 D(G(z)): 0.1134 / 0.0992\n",
            "[181/200] Loss_D: 0.6435 Loss_G: 3.0648 D(x): 0.8096 D(G(z)): 0.1510 / 0.1218\n",
            "[182/200] Loss_D: 0.5331 Loss_G: 2.4224 D(x): 0.8404 D(G(z)): 0.2074 / 0.1764\n",
            "[183/200] Loss_D: 0.5982 Loss_G: 2.5086 D(x): 0.7975 D(G(z)): 0.1656 / 0.1819\n",
            "[184/200] Loss_D: 0.5889 Loss_G: 2.8446 D(x): 0.7707 D(G(z)): 0.1341 / 0.1445\n",
            "[185/200] Loss_D: 0.5067 Loss_G: 3.2306 D(x): 0.7916 D(G(z)): 0.1170 / 0.0848\n",
            "[186/200] Loss_D: 0.6494 Loss_G: 2.7970 D(x): 0.7368 D(G(z)): 0.1188 / 0.1239\n",
            "[187/200] Loss_D: 0.6904 Loss_G: 2.1455 D(x): 0.8462 D(G(z)): 0.2300 / 0.2301\n",
            "[188/200] Loss_D: 0.4163 Loss_G: 2.5339 D(x): 0.8684 D(G(z)): 0.1775 / 0.1628\n",
            "[189/200] Loss_D: 0.4428 Loss_G: 2.8139 D(x): 0.8375 D(G(z)): 0.1481 / 0.1197\n",
            "[190/200] Loss_D: 0.4480 Loss_G: 2.8764 D(x): 0.8571 D(G(z)): 0.1643 / 0.1179\n",
            "[191/200] Loss_D: 0.5244 Loss_G: 2.3701 D(x): 0.7946 D(G(z)): 0.1544 / 0.1556\n",
            "[192/200] Loss_D: 0.7879 Loss_G: 2.5283 D(x): 0.7799 D(G(z)): 0.2338 / 0.2000\n",
            "[193/200] Loss_D: 0.6850 Loss_G: 1.7931 D(x): 0.9143 D(G(z)): 0.3088 / 0.3001\n",
            "[194/200] Loss_D: 0.6472 Loss_G: 2.2161 D(x): 0.7754 D(G(z)): 0.1857 / 0.1924\n",
            "[195/200] Loss_D: 0.5832 Loss_G: 2.1283 D(x): 0.8508 D(G(z)): 0.2382 / 0.2128\n",
            "[196/200] Loss_D: 0.6535 Loss_G: 1.8942 D(x): 0.8720 D(G(z)): 0.3123 / 0.2719\n",
            "[197/200] Loss_D: 0.5267 Loss_G: 2.2930 D(x): 0.8209 D(G(z)): 0.2054 / 0.2011\n",
            "[198/200] Loss_D: 0.6223 Loss_G: 2.9515 D(x): 0.7220 D(G(z)): 0.1171 / 0.1146\n",
            "[199/200] Loss_D: 0.5581 Loss_G: 2.0654 D(x): 0.8069 D(G(z)): 0.2140 / 0.2146\n"
          ]
        }
      ],
      "source": [
        "fixed_noise = torch.randn(128, 100).cuda()\n",
        "\n",
        "criterion = nn.BCELoss()\n",
        "\n",
        "n_epoch = 200\n",
        "training_progress_images_list = []\n",
        "for epoch in range(n_epoch):\n",
        "    for i, (data, _) in enumerate(dataloader):\n",
        "        ####################################################\n",
        "        # (1) Update D network: maximize log(D(x)) + log(1 - D(G(z))) #\n",
        "        ###################################################\n",
        "        # train with real\n",
        "        netD.zero_grad()\n",
        "        data = data.cuda()\n",
        "        batch_size = data.size(0)\n",
        "        label = torch.ones((batch_size,)).cuda() # real label = 1\n",
        "        output = netD(data)\n",
        "        errD_real = criterion(output, label)\n",
        "        D_x = output.mean().item()\n",
        "\n",
        "        # train with fake\n",
        "        noise = torch.randn(batch_size, 100).cuda()\n",
        "        fake = netG(noise)\n",
        "        label = torch.zeros((batch_size,)).cuda() # fake label = 1\n",
        "        output = netD(fake.detach())\n",
        "        errD_fake = criterion(output, label)\n",
        "        D_G_z1 = output.mean().item()\n",
        "        \n",
        "        # Loss backward\n",
        "        errD = errD_real + errD_fake\n",
        "        errD.backward()\n",
        "        optimizerD.step()\n",
        "\n",
        "        ########################################\n",
        "        # (2) Update G network: maximize log(D(G(z))) #\n",
        "        ########################################\n",
        "        netG.zero_grad()\n",
        "        label = torch.ones((batch_size,)).cuda()  # fake labels are real for generator cost\n",
        "        output = netD(fake)\n",
        "        errG = criterion(output, label)\n",
        "        D_G_z2 = output.mean().item()\n",
        "\n",
        "        errG.backward()\n",
        "        optimizerG.step()\n",
        "        \n",
        "    print('[%d/%d] Loss_D: %.4f Loss_G: %.4f D(x): %.4f D(G(z)): %.4f / %.4f' \n",
        "              % (epoch, n_epoch, errD.item(), errG.item(), D_x, D_G_z1, D_G_z2))\n",
        "    \n",
        "    #save the output\n",
        "    fake = netG(fixed_noise)\n",
        "    training_progress_images_list = save_gif(training_progress_images_list, fake)  # Save fake image while training!\n",
        "    \n",
        "    # Check pointing for every epoch\n",
        "    torch.save(netG.state_dict(), './checkpoint/netG_epoch_%d.pth' % (epoch))\n",
        "    torch.save(netD.state_dict(), './checkpoint/netD_epoch_%d.pth' % (epoch))"
      ]
    },
    {
      "cell_type": "markdown",
      "metadata": {
        "id": "YDr1OAe00VDE"
      },
      "source": [
        "## 4. Visualize/Plot your generated samples"
      ]
    },
    {
      "cell_type": "code",
      "execution_count": 27,
      "metadata": {
        "colab": {
          "base_uri": "https://localhost:8080/",
          "height": 1000
        },
        "id": "JJ70lVw30VDE",
        "outputId": "8f53610b-8ec8-4a62-f1f7-65256798d13b"
      },
      "outputs": [
        {
          "data": {
            "image/png": "[encoded data removed]",
            "text/plain": [
              "<Figure size 432x288 with 1 Axes>"
            ]
          },
          "metadata": {
            "needs_background": "light"
          },
          "output_type": "display_data"
        },
        {
          "data": {
            "image/png": "[encoded data removed]",
            "text/plain": [
              "<Figure size 432x288 with 1 Axes>"
            ]
          },
          "metadata": {
            "needs_background": "light"
          },
          "output_type": "display_data"
        },
        {
          "data": {
            "image/png": "[encoded data removed]",
            "text/plain": [
              "<Figure size 432x288 with 1 Axes>"
            ]
          },
          "metadata": {
            "needs_background": "light"
          },
          "output_type": "display_data"
        },
        {
          "data": {
            "image/png": "[encoded data removed]",
            "text/plain": [
              "<Figure size 432x288 with 1 Axes>"
            ]
          },
          "metadata": {
            "needs_background": "light"
          },
          "output_type": "display_data"
        },
        {
          "data": {
            "image/png": "[encoded data removed]",
            "text/plain": [
              "<Figure size 432x288 with 1 Axes>"
            ]
          },
          "metadata": {
            "needs_background": "light"
          },
          "output_type": "display_data"
        },
        {
          "data": {
            "image/png": "[encoded data removed]",
            "text/plain": [
              "<Figure size 432x288 with 1 Axes>"
            ]
          },
          "metadata": {
            "needs_background": "light"
          },
          "output_type": "display_data"
        },
        {
          "data": {
            "image/png": "[encoded data removed]",
            "text/plain": [
              "<Figure size 432x288 with 1 Axes>"
            ]
          },
          "metadata": {
            "needs_background": "light"
          },
          "output_type": "display_data"
        },
        {
          "data": {
            "image/png": "[encoded data removed]",
            "text/plain": [
              "<Figure size 432x288 with 1 Axes>"
            ]
          },
          "metadata": {
            "needs_background": "light"
          },
          "output_type": "display_data"
        },
        {
          "data": {
            "image/png": "[encoded data removed]",
            "text/plain": [
              "<Figure size 432x288 with 1 Axes>"
            ]
          },
          "metadata": {
            "needs_background": "light"
          },
          "output_type": "display_data"
        },
        {
          "data": {
            "image/png": "[encoded data removed]",
            "text/plain": [
              "<Figure size 432x288 with 1 Axes>"
            ]
          },
          "metadata": {
            "needs_background": "light"
          },
          "output_type": "display_data"
        }
      ],
      "source": [
        "# vis_gif(training_progress_images_list)\n",
        "plot_gif(training_progress_images_list)"
      ]
    },
    {
      "cell_type": "markdown",
      "metadata": {
        "id": "3eKSVhTT0VDE"
      },
      "source": [
        "## 5. Evaluate your model: Fréchet Inception Distance (FID) score"
      ]
    },
    {
      "cell_type": "markdown",
      "metadata": {
        "id": "tbOb6Oyv0VDF"
      },
      "source": [
        "How to evaluate the equality of your generated sample?\\\n",
        "Maybe **training loss...? No!**\n",
        "Papers have shown that training loss might not be the best metric!\n",
        "\n",
        "There are many evaluation metric that has been proposed and most famous metric is as follows: [**Inception score**](https://arxiv.org/abs/1606.03498), [**Fréchet Inception Distance**](https://arxiv.org/abs/1706.08500)\n",
        "\n",
        "In this course, we will handle **Fréchet Inception Distance (FID) score.**"
      ]
    },
    {
      "cell_type": "markdown",
      "metadata": {
        "id": "oW0i0sP40VDF"
      },
      "source": [
        "### 5.1. What is FID score?"
      ]
    },
    {
      "cell_type": "markdown",
      "metadata": {
        "id": "Jk6ukiiO0VDF"
      },
      "source": [
        "FID measures the distance between **real dataset** & **fake dataset** in **feature space of Inception** pretrained network.\\\n",
        "From the extracted features of real & fake dataset, we can compute mean & covariance of each features to calculate the **distance between distributions**.\n",
        "- For more explanation see this [article](https://medium.com/@jonathan_hui/gan-how-to-measure-gan-performance-64b988c47732) or [paper](https://arxiv.org/abs/1706.08500)"
      ]
    },
    {
      "cell_type": "markdown",
      "metadata": {
        "id": "RiZOAzuV0VDF"
      },
      "source": [
        "For the implementation, we simply use the source code from github: https://github.com/mseitzer/pytorch-fid\n",
        "\n",
        "Please note that Inception network is **pretrained on ImageNet**, therefore the MNIST FID score might be unrealiable.\\"
      ]
    },
    {
      "cell_type": "markdown",
      "metadata": {
        "id": "ieXxlZXb0VDF"
      },
      "source": [
        "### 5.2. Load FID score function: code is from the github"
      ]
    },
    {
      "cell_type": "code",
      "execution_count": 28,
      "metadata": {
        "id": "mlBvfJ500VDG"
      },
      "outputs": [],
      "source": [
        "import inception\n",
        "import fid_score\n",
        "from fid_score import calculate_fid_given_paths"
      ]
    },
    {
      "cell_type": "markdown",
      "metadata": {
        "id": "SvnUHddB0VDG"
      },
      "source": [
        "### 5.3. Evaluate your model (save samples!!)\n",
        "\n",
        "The Inception network's input resolution is 224 by 224, we upscale small resolution datasets (e.g., MNSIT, CIFAR) into same resolution.\n",
        "\n",
        "Please note that, we only save *50 samples in this lecture*, however in practice we use **full test dataset**: [reference](https://arxiv.org/abs/1807.04720)"
      ]
    },
    {
      "cell_type": "code",
      "execution_count": 29,
      "metadata": {
        "id": "MSBjjWAn0VDG"
      },
      "outputs": [],
      "source": [
        "test_dataset = dset.MNIST(root=\"./dataset\", download=True, train=False,\n",
        "                                           transform=transforms.Compose([\n",
        "                                           transforms.ToTensor(),\n",
        "                        ]))\n",
        "\n",
        "dataloader = torch.utils.data.DataLoader(test_dataset, batch_size=50, shuffle=True, num_workers=2)\n",
        "\n",
        "for i, (data, _) in enumerate(dataloader):\n",
        "    real_dataset = data\n",
        "    break\n",
        "    \n",
        "noise = torch.randn(50, 100).cuda()\n",
        "fake_dataset = netG(noise)"
      ]
    },
    {
      "cell_type": "code",
      "execution_count": 30,
      "metadata": {
        "id": "7GzIqcMJ0VDG"
      },
      "outputs": [],
      "source": [
        "real_image_path_list = save_image_list(real_dataset, True)\n",
        "fake_image_path_list = save_image_list(fake_dataset, False)"
      ]
    },
    {
      "cell_type": "markdown",
      "metadata": {
        "id": "TNF5e7Z20VDG"
      },
      "source": [
        "### 5.4 Evaluate FID score"
      ]
    },
    {
      "cell_type": "code",
      "execution_count": 31,
      "metadata": {
        "colab": {
          "base_uri": "https://localhost:8080/"
        },
        "id": "8i51nFZb0VDG",
        "outputId": "f7836267-b412-46ba-88b2-26653b171a89"
      },
      "outputs": [
        {
          "name": "stderr",
          "output_type": "stream",
          "text": [
            "100%|██████████| 1/1 [00:00<00:00,  1.33it/s]\n",
            "100%|██████████| 1/1 [00:00<00:00,  1.48it/s]\n"
          ]
        }
      ],
      "source": [
        "# calculate_fid_given_paths(paths, batch_size, cuda, dims)\n",
        "fid_value = calculate_fid_given_paths([real_image_path_list, fake_image_path_list],\n",
        "                                                          50, \n",
        "                                                          True,\n",
        "                                                          2048)"
      ]
    },
    {
      "cell_type": "code",
      "execution_count": 32,
      "metadata": {
        "colab": {
          "base_uri": "https://localhost:8080/"
        },
        "id": "xLRqS6SB0VDG",
        "outputId": "01b82031-3e62-4374-a2dc-8e8be83db756"
      },
      "outputs": [
        {
          "name": "stdout",
          "output_type": "stream",
          "text": [
            "FID score: 123.28376531237436\n"
          ]
        }
      ],
      "source": [
        "print (f'FID score: {fid_value}')"
      ]
    },
    {
      "cell_type": "markdown",
      "metadata": {
        "id": "l_VUxxVS0VDG"
      },
      "source": [
        "## Additional: DCGAN (try it by your-self)"
      ]
    },
    {
      "cell_type": "markdown",
      "metadata": {
        "id": "nBQGfAUJ0VDG"
      },
      "source": [
        "There are various modern architectures of GAN e.g., DCGAN, SNGAN, and also training methods e.g., WGAN, gradient penulty\n",
        "\n",
        "You can try the following architecture to improve the quality of generation!\n",
        "- **Note that this version is for 64 by 64 resolution**"
      ]
    },
    {
      "cell_type": "code",
      "execution_count": 24,
      "metadata": {
        "id": "mbh3IxfP0VDH"
      },
      "outputs": [],
      "source": [
        "nc = 3 # number of channels, RGB\n",
        "nz = 100 # input noise dimension\n",
        "ngf = 64 # number of generator filters\n",
        "ndf = 64 #number of discriminator filters\n",
        "\n",
        "class Generator(nn.Module):\n",
        "    def __init__(self):\n",
        "        super(Generator, self).__init__()\n",
        "        self.main = nn.Sequential(\n",
        "            # input is Z, going into a convolution\n",
        "            nn.ConvTranspose2d(nz, ngf * 8, 4, 1, 0, bias=False),\n",
        "            nn.BatchNorm2d(ngf * 8),\n",
        "            nn.ReLU(True),\n",
        "            # state size. (ngf*8) x 4 x 4\n",
        "            nn.ConvTranspose2d(ngf * 8, ngf * 4, 4, 2, 1, bias=False),\n",
        "            nn.BatchNorm2d(ngf * 4),\n",
        "            nn.ReLU(True),\n",
        "            # state size. (ngf*4) x 8 x 8\n",
        "            nn.ConvTranspose2d(ngf * 4, ngf * 2, 4, 2, 1, bias=False),\n",
        "            nn.BatchNorm2d(ngf * 2),\n",
        "            nn.ReLU(True),\n",
        "            # state size. (ngf*2) x 16 x 16\n",
        "            nn.ConvTranspose2d(ngf * 2, ngf, 4, 2, 1, bias=False),\n",
        "            nn.BatchNorm2d(ngf),\n",
        "            nn.ReLU(True),\n",
        "            # state size. (ngf) x 32 x 32\n",
        "            nn.ConvTranspose2d(ngf, nc, 4, 2, 1, bias=False),\n",
        "            nn.Tanh()\n",
        "            # state size. (nc) x 64 x 64\n",
        "        )\n",
        "\n",
        "    def forward(self, input):\n",
        "        output = self.main(input)\n",
        "        return output"
      ]
    },
    {
      "cell_type": "code",
      "execution_count": 25,
      "metadata": {
        "id": "ZHCnXxl20VDH"
      },
      "outputs": [],
      "source": [
        "class Discriminator(nn.Module):\n",
        "    def __init__(self):\n",
        "        super(Discriminator, self).__init__()\n",
        "        self.main = nn.Sequential(\n",
        "            # input is (nc) x 64 x 64\n",
        "            nn.Conv2d(nc, ndf, 4, 2, 1, bias=False),\n",
        "            nn.LeakyReLU(0.2, inplace=True),\n",
        "            # state size. (ndf) x 32 x 32\n",
        "            nn.Conv2d(ndf, ndf * 2, 4, 2, 1, bias=False),\n",
        "            nn.BatchNorm2d(ndf * 2),\n",
        "            nn.LeakyReLU(0.2, inplace=True),\n",
        "            # state size. (ndf*2) x 16 x 16\n",
        "            nn.Conv2d(ndf * 2, ndf * 4, 4, 2, 1, bias=False),\n",
        "            nn.BatchNorm2d(ndf * 4),\n",
        "            nn.LeakyReLU(0.2, inplace=True),\n",
        "            # state size. (ndf*4) x 8 x 8\n",
        "            nn.Conv2d(ndf * 4, ndf * 8, 4, 2, 1, bias=False),\n",
        "            nn.BatchNorm2d(ndf * 8),\n",
        "            nn.LeakyReLU(0.2, inplace=True),\n",
        "            # state size. (ndf*8) x 4 x 4\n",
        "            nn.Conv2d(ndf * 8, 1, 4, 1, 0, bias=False),\n",
        "            nn.Sigmoid()\n",
        "        )\n",
        "\n",
        "    def forward(self, input):\n",
        "        output = self.main(input)\n",
        "        return output.view(-1, 1).squeeze(1)"
      ]
    },
    {
      "cell_type": "markdown",
      "metadata": {
        "id": "VRVb6-nl0VDH"
      },
      "source": [
        "## Reference\n",
        "\n",
        "PyTorch official DCGAN tutorial: https://pytorch.org/tutorials/beginner/dcgan_faces_tutorial.html \\\n",
        "github 1: https://github.com/Ksuryateja/DCGAN-CIFAR10-pytorch/blob/master/gan_cifar.py \\\n",
        "github 2: https://github.com/mseitzer/pytorch-fid \\\n",
        "FID score: https://github.com/mseitzer/pytorch-fid \\\n",
        "Inception score: https://github.com/sbarratt/inception-score-pytorch"
      ]
    }
  ],
  "metadata": {
    "accelerator": "GPU",
    "colab": {
      "name": "ai504_06_gan_sol.ipynb",
      "provenance": []
    },
    "kernelspec": {
      "display_name": "Python 3",
      "language": "python",
      "name": "python3"
    },
    "language_info": {
      "codemirror_mode": {
        "name": "ipython",
        "version": 3
      },
      "file_extension": ".py",
      "mimetype": "text/x-python",
      "name": "python",
      "nbconvert_exporter": "python",
      "pygments_lexer": "ipython3",
      "version": "3.6.10"
    },
    "widgets": {
      "application/vnd.jupyter.widget-state+json": {
        "0ee2af672e774b55968ca7ba89f67277": {
          "model_module": "@jupyter-widgets/base",
          "model_module_version": "1.2.0",
          "model_name": "LayoutModel",
          "state": {
            "_model_module": "@jupyter-widgets/base",
            "_model_module_version": "1.2.0",
            "_model_name": "LayoutModel",
            "_view_count": null,
            "_view_module": "@jupyter-widgets/base",
            "_view_module_version": "1.2.0",
            "_view_name": "LayoutView",
            "align_content": null,
            "align_items": null,
            "align_self": null,
            "border": null,
            "bottom": null,
            "display": null,
            "flex": null,
            "flex_flow": null,
            "grid_area": null,
            "grid_auto_columns": null,
            "grid_auto_flow": null,
            "grid_auto_rows": null,
            "grid_column": null,
            "grid_gap": null,
            "grid_row": null,
            "grid_template_areas": null,
            "grid_template_columns": null,
            "grid_template_rows": null,
            "height": null,
            "justify_content": null,
            "justify_items": null,
            "left": null,
            "margin": null,
            "max_height": null,
            "max_width": null,
            "min_height": null,
            "min_width": null,
            "object_fit": null,
            "object_position": null,
            "order": null,
            "overflow": null,
            "overflow_x": null,
            "overflow_y": null,
            "padding": null,
            "right": null,
            "top": null,
            "visibility": null,
            "width": null
          }
        },
        "184a9aab8b4b49ab9020d787d02e9ed4": {
          "model_module": "@jupyter-widgets/controls",
          "model_module_version": "1.5.0",
          "model_name": "FloatProgressModel",
          "state": {
            "_dom_classes": [],
            "_model_module": "@jupyter-widgets/controls",
            "_model_module_version": "1.5.0",
            "_model_name": "FloatProgressModel",
            "_view_count": null,
            "_view_module": "@jupyter-widgets/controls",
            "_view_module_version": "1.5.0",
            "_view_name": "ProgressView",
            "bar_style": "success",
            "description": "",
            "description_tooltip": null,
            "layout": "IPY_MODEL_9bd8e73468874dbc9a6733f7d9d2a06e",
            "max": 1648877,
            "min": 0,
            "orientation": "horizontal",
            "style": "IPY_MODEL_782c7c3163ef450cad7e5bd5ea410ec3",
            "value": 1648877
          }
        },
        "1d48546f6e694b55800c40dcbdc4f647": {
          "model_module": "@jupyter-widgets/controls",
          "model_module_version": "1.5.0",
          "model_name": "HBoxModel",
          "state": {
            "_dom_classes": [],
            "_model_module": "@jupyter-widgets/controls",
            "_model_module_version": "1.5.0",
            "_model_name": "HBoxModel",
            "_view_count": null,
            "_view_module": "@jupyter-widgets/controls",
            "_view_module_version": "1.5.0",
            "_view_name": "HBoxView",
            "box_style": "",
            "children": [
              "IPY_MODEL_acd63eb3c8e34683b8fbc7c5c82511fe",
              "IPY_MODEL_6710264c47854815b7e0279e73f12182",
              "IPY_MODEL_bcbf18269fb24dd99e52852538004013"
            ],
            "layout": "IPY_MODEL_0ee2af672e774b55968ca7ba89f67277"
          }
        },
        "1d74fd1dcbc54e67b64a4916097405ef": {
          "model_module": "@jupyter-widgets/base",
          "model_module_version": "1.2.0",
          "model_name": "LayoutModel",
          "state": {
            "_model_module": "@jupyter-widgets/base",
            "_model_module_version": "1.2.0",
            "_model_name": "LayoutModel",
            "_view_count": null,
            "_view_module": "@jupyter-widgets/base",
            "_view_module_version": "1.2.0",
            "_view_name": "LayoutView",
            "align_content": null,
            "align_items": null,
            "align_self": null,
            "border": null,
            "bottom": null,
            "display": null,
            "flex": null,
            "flex_flow": null,
            "grid_area": null,
            "grid_auto_columns": null,
            "grid_auto_flow": null,
            "grid_auto_rows": null,
            "grid_column": null,
            "grid_gap": null,
            "grid_row": null,
            "grid_template_areas": null,
            "grid_template_columns": null,
            "grid_template_rows": null,
            "height": null,
            "justify_content": null,
            "justify_items": null,
            "left": null,
            "margin": null,
            "max_height": null,
            "max_width": null,
            "min_height": null,
            "min_width": null,
            "object_fit": null,
            "object_position": null,
            "order": null,
            "overflow": null,
            "overflow_x": null,
            "overflow_y": null,
            "padding": null,
            "right": null,
            "top": null,
            "visibility": null,
            "width": null
          }
        },
        "26d626d7a54b49889db4f2d86ff61d44": {
          "model_module": "@jupyter-widgets/base",
          "model_module_version": "1.2.0",
          "model_name": "LayoutModel",
          "state": {
            "_model_module": "@jupyter-widgets/base",
            "_model_module_version": "1.2.0",
            "_model_name": "LayoutModel",
            "_view_count": null,
            "_view_module": "@jupyter-widgets/base",
            "_view_module_version": "1.2.0",
            "_view_name": "LayoutView",
            "align_content": null,
            "align_items": null,
            "align_self": null,
            "border": null,
            "bottom": null,
            "display": null,
            "flex": null,
            "flex_flow": null,
            "grid_area": null,
            "grid_auto_columns": null,
            "grid_auto_flow": null,
            "grid_auto_rows": null,
            "grid_column": null,
            "grid_gap": null,
            "grid_row": null,
            "grid_template_areas": null,
            "grid_template_columns": null,
            "grid_template_rows": null,
            "height": null,
            "justify_content": null,
            "justify_items": null,
            "left": null,
            "margin": null,
            "max_height": null,
            "max_width": null,
            "min_height": null,
            "min_width": null,
            "object_fit": null,
            "object_position": null,
            "order": null,
            "overflow": null,
            "overflow_x": null,
            "overflow_y": null,
            "padding": null,
            "right": null,
            "top": null,
            "visibility": null,
            "width": null
          }
        },
        "33212016b5944c8fba51c77e785fa749": {
          "model_module": "@jupyter-widgets/controls",
          "model_module_version": "1.5.0",
          "model_name": "HBoxModel",
          "state": {
            "_dom_classes": [],
            "_model_module": "@jupyter-widgets/controls",
            "_model_module_version": "1.5.0",
            "_model_name": "HBoxModel",
            "_view_count": null,
            "_view_module": "@jupyter-widgets/controls",
            "_view_module_version": "1.5.0",
            "_view_name": "HBoxView",
            "box_style": "",
            "children": [
              "IPY_MODEL_9f72a3cf22e0498ab91b67589efa9ff8",
              "IPY_MODEL_184a9aab8b4b49ab9020d787d02e9ed4",
              "IPY_MODEL_fde7be78c8cb4047806ad6ec6c331510"
            ],
            "layout": "IPY_MODEL_d35b0962865e443299fc682119a01e4e"
          }
        },
        "35a831a27cb94988bd031b1d050bedf0": {
          "model_module": "@jupyter-widgets/controls",
          "model_module_version": "1.5.0",
          "model_name": "DescriptionStyleModel",
          "state": {
            "_model_module": "@jupyter-widgets/controls",
            "_model_module_version": "1.5.0",
            "_model_name": "DescriptionStyleModel",
            "_view_count": null,
            "_view_module": "@jupyter-widgets/base",
            "_view_module_version": "1.2.0",
            "_view_name": "StyleView",
            "description_width": ""
          }
        },
        "37613a06528047ef9d06d9faaad6369b": {
          "model_module": "@jupyter-widgets/controls",
          "model_module_version": "1.5.0",
          "model_name": "DescriptionStyleModel",
          "state": {
            "_model_module": "@jupyter-widgets/controls",
            "_model_module_version": "1.5.0",
            "_model_name": "DescriptionStyleModel",
            "_view_count": null,
            "_view_module": "@jupyter-widgets/base",
            "_view_module_version": "1.2.0",
            "_view_name": "StyleView",
            "description_width": ""
          }
        },
        "407ed7389f93415ab37b2dc51e498fa3": {
          "model_module": "@jupyter-widgets/controls",
          "model_module_version": "1.5.0",
          "model_name": "ProgressStyleModel",
          "state": {
            "_model_module": "@jupyter-widgets/controls",
            "_model_module_version": "1.5.0",
            "_model_name": "ProgressStyleModel",
            "_view_count": null,
            "_view_module": "@jupyter-widgets/base",
            "_view_module_version": "1.2.0",
            "_view_name": "StyleView",
            "bar_color": null,
            "description_width": ""
          }
        },
        "45997127df2b4a1eaddd086a2895df3f": {
          "model_module": "@jupyter-widgets/base",
          "model_module_version": "1.2.0",
          "model_name": "LayoutModel",
          "state": {
            "_model_module": "@jupyter-widgets/base",
            "_model_module_version": "1.2.0",
            "_model_name": "LayoutModel",
            "_view_count": null,
            "_view_module": "@jupyter-widgets/base",
            "_view_module_version": "1.2.0",
            "_view_name": "LayoutView",
            "align_content": null,
            "align_items": null,
            "align_self": null,
            "border": null,
            "bottom": null,
            "display": null,
            "flex": null,
            "flex_flow": null,
            "grid_area": null,
            "grid_auto_columns": null,
            "grid_auto_flow": null,
            "grid_auto_rows": null,
            "grid_column": null,
            "grid_gap": null,
            "grid_row": null,
            "grid_template_areas": null,
            "grid_template_columns": null,
            "grid_template_rows": null,
            "height": null,
            "justify_content": null,
            "justify_items": null,
            "left": null,
            "margin": null,
            "max_height": null,
            "max_width": null,
            "min_height": null,
            "min_width": null,
            "object_fit": null,
            "object_position": null,
            "order": null,
            "overflow": null,
            "overflow_x": null,
            "overflow_y": null,
            "padding": null,
            "right": null,
            "top": null,
            "visibility": null,
            "width": null
          }
        },
        "46f16e3e4aa9413fbcebd1b0fbd45921": {
          "model_module": "@jupyter-widgets/controls",
          "model_module_version": "1.5.0",
          "model_name": "DescriptionStyleModel",
          "state": {
            "_model_module": "@jupyter-widgets/controls",
            "_model_module_version": "1.5.0",
            "_model_name": "DescriptionStyleModel",
            "_view_count": null,
            "_view_module": "@jupyter-widgets/base",
            "_view_module_version": "1.2.0",
            "_view_name": "StyleView",
            "description_width": ""
          }
        },
        "4df66c97e86d4ea5b87395f885457a65": {
          "model_module": "@jupyter-widgets/base",
          "model_module_version": "1.2.0",
          "model_name": "LayoutModel",
          "state": {
            "_model_module": "@jupyter-widgets/base",
            "_model_module_version": "1.2.0",
            "_model_name": "LayoutModel",
            "_view_count": null,
            "_view_module": "@jupyter-widgets/base",
            "_view_module_version": "1.2.0",
            "_view_name": "LayoutView",
            "align_content": null,
            "align_items": null,
            "align_self": null,
            "border": null,
            "bottom": null,
            "display": null,
            "flex": null,
            "flex_flow": null,
            "grid_area": null,
            "grid_auto_columns": null,
            "grid_auto_flow": null,
            "grid_auto_rows": null,
            "grid_column": null,
            "grid_gap": null,
            "grid_row": null,
            "grid_template_areas": null,
            "grid_template_columns": null,
            "grid_template_rows": null,
            "height": null,
            "justify_content": null,
            "justify_items": null,
            "left": null,
            "margin": null,
            "max_height": null,
            "max_width": null,
            "min_height": null,
            "min_width": null,
            "object_fit": null,
            "object_position": null,
            "order": null,
            "overflow": null,
            "overflow_x": null,
            "overflow_y": null,
            "padding": null,
            "right": null,
            "top": null,
            "visibility": null,
            "width": null
          }
        },
        "5c08f2f456334674999a0946469a44e1": {
          "model_module": "@jupyter-widgets/controls",
          "model_module_version": "1.5.0",
          "model_name": "HTMLModel",
          "state": {
            "_dom_classes": [],
            "_model_module": "@jupyter-widgets/controls",
            "_model_module_version": "1.5.0",
            "_model_name": "HTMLModel",
            "_view_count": null,
            "_view_module": "@jupyter-widgets/controls",
            "_view_module_version": "1.5.0",
            "_view_name": "HTMLView",
            "description": "",
            "description_tooltip": null,
            "layout": "IPY_MODEL_4df66c97e86d4ea5b87395f885457a65",
            "placeholder": "​",
            "style": "IPY_MODEL_d61086efe4cd41d2a509fca4345ac669",
            "value": ""
          }
        },
        "5cecc6c1b2ad4d50ac2f4b176988ab68": {
          "model_module": "@jupyter-widgets/controls",
          "model_module_version": "1.5.0",
          "model_name": "DescriptionStyleModel",
          "state": {
            "_model_module": "@jupyter-widgets/controls",
            "_model_module_version": "1.5.0",
            "_model_name": "DescriptionStyleModel",
            "_view_count": null,
            "_view_module": "@jupyter-widgets/base",
            "_view_module_version": "1.2.0",
            "_view_name": "StyleView",
            "description_width": ""
          }
        },
        "5e7f37a5ac3f49e4959d799c26ce095e": {
          "model_module": "@jupyter-widgets/controls",
          "model_module_version": "1.5.0",
          "model_name": "HTMLModel",
          "state": {
            "_dom_classes": [],
            "_model_module": "@jupyter-widgets/controls",
            "_model_module_version": "1.5.0",
            "_model_name": "HTMLModel",
            "_view_count": null,
            "_view_module": "@jupyter-widgets/controls",
            "_view_module_version": "1.5.0",
            "_view_name": "HTMLView",
            "description": "",
            "description_tooltip": null,
            "layout": "IPY_MODEL_1d74fd1dcbc54e67b64a4916097405ef",
            "placeholder": "​",
            "style": "IPY_MODEL_a15c278bb24d4655880f7706f60a5fc9",
            "value": ""
          }
        },
        "63251ee0e57a4b58a7b3b8cdb6aa45da": {
          "model_module": "@jupyter-widgets/controls",
          "model_module_version": "1.5.0",
          "model_name": "HTMLModel",
          "state": {
            "_dom_classes": [],
            "_model_module": "@jupyter-widgets/controls",
            "_model_module_version": "1.5.0",
            "_model_name": "HTMLModel",
            "_view_count": null,
            "_view_module": "@jupyter-widgets/controls",
            "_view_module_version": "1.5.0",
            "_view_name": "HTMLView",
            "description": "",
            "description_tooltip": null,
            "layout": "IPY_MODEL_ae01aed865f44779a8f36c0fa4f03b62",
            "placeholder": "​",
            "style": "IPY_MODEL_37613a06528047ef9d06d9faaad6369b",
            "value": " 29696/? [00:00&lt;00:00, 620375.61it/s]"
          }
        },
        "6710264c47854815b7e0279e73f12182": {
          "model_module": "@jupyter-widgets/controls",
          "model_module_version": "1.5.0",
          "model_name": "FloatProgressModel",
          "state": {
            "_dom_classes": [],
            "_model_module": "@jupyter-widgets/controls",
            "_model_module_version": "1.5.0",
            "_model_name": "FloatProgressModel",
            "_view_count": null,
            "_view_module": "@jupyter-widgets/controls",
            "_view_module_version": "1.5.0",
            "_view_name": "ProgressView",
            "bar_style": "success",
            "description": "",
            "description_tooltip": null,
            "layout": "IPY_MODEL_d220fa568d324c519316c1a71ce3f332",
            "max": 9912422,
            "min": 0,
            "orientation": "horizontal",
            "style": "IPY_MODEL_68b47f16ae064fc5993e7f26e63bd2c6",
            "value": 9912422
          }
        },
        "67dba3ce5583496da846416cf1c95882": {
          "model_module": "@jupyter-widgets/controls",
          "model_module_version": "1.5.0",
          "model_name": "HTMLModel",
          "state": {
            "_dom_classes": [],
            "_model_module": "@jupyter-widgets/controls",
            "_model_module_version": "1.5.0",
            "_model_name": "HTMLModel",
            "_view_count": null,
            "_view_module": "@jupyter-widgets/controls",
            "_view_module_version": "1.5.0",
            "_view_name": "HTMLView",
            "description": "",
            "description_tooltip": null,
            "layout": "IPY_MODEL_fb3d926652a94728a52e0294c1f8f3a9",
            "placeholder": "​",
            "style": "IPY_MODEL_dacab51e49444fb69e489582ee673f95",
            "value": " 5120/? [00:00&lt;00:00, 150076.08it/s]"
          }
        },
        "68b47f16ae064fc5993e7f26e63bd2c6": {
          "model_module": "@jupyter-widgets/controls",
          "model_module_version": "1.5.0",
          "model_name": "ProgressStyleModel",
          "state": {
            "_model_module": "@jupyter-widgets/controls",
            "_model_module_version": "1.5.0",
            "_model_name": "ProgressStyleModel",
            "_view_count": null,
            "_view_module": "@jupyter-widgets/base",
            "_view_module_version": "1.2.0",
            "_view_name": "StyleView",
            "bar_color": null,
            "description_width": ""
          }
        },
        "782c7c3163ef450cad7e5bd5ea410ec3": {
          "model_module": "@jupyter-widgets/controls",
          "model_module_version": "1.5.0",
          "model_name": "ProgressStyleModel",
          "state": {
            "_model_module": "@jupyter-widgets/controls",
            "_model_module_version": "1.5.0",
            "_model_name": "ProgressStyleModel",
            "_view_count": null,
            "_view_module": "@jupyter-widgets/base",
            "_view_module_version": "1.2.0",
            "_view_name": "StyleView",
            "bar_color": null,
            "description_width": ""
          }
        },
        "7bd1a1344e104f86ac290281fa986d6a": {
          "model_module": "@jupyter-widgets/base",
          "model_module_version": "1.2.0",
          "model_name": "LayoutModel",
          "state": {
            "_model_module": "@jupyter-widgets/base",
            "_model_module_version": "1.2.0",
            "_model_name": "LayoutModel",
            "_view_count": null,
            "_view_module": "@jupyter-widgets/base",
            "_view_module_version": "1.2.0",
            "_view_name": "LayoutView",
            "align_content": null,
            "align_items": null,
            "align_self": null,
            "border": null,
            "bottom": null,
            "display": null,
            "flex": null,
            "flex_flow": null,
            "grid_area": null,
            "grid_auto_columns": null,
            "grid_auto_flow": null,
            "grid_auto_rows": null,
            "grid_column": null,
            "grid_gap": null,
            "grid_row": null,
            "grid_template_areas": null,
            "grid_template_columns": null,
            "grid_template_rows": null,
            "height": null,
            "justify_content": null,
            "justify_items": null,
            "left": null,
            "margin": null,
            "max_height": null,
            "max_width": null,
            "min_height": null,
            "min_width": null,
            "object_fit": null,
            "object_position": null,
            "order": null,
            "overflow": null,
            "overflow_x": null,
            "overflow_y": null,
            "padding": null,
            "right": null,
            "top": null,
            "visibility": null,
            "width": null
          }
        },
        "80fc0e1b30ad486787526717ef3e161a": {
          "model_module": "@jupyter-widgets/base",
          "model_module_version": "1.2.0",
          "model_name": "LayoutModel",
          "state": {
            "_model_module": "@jupyter-widgets/base",
            "_model_module_version": "1.2.0",
            "_model_name": "LayoutModel",
            "_view_count": null,
            "_view_module": "@jupyter-widgets/base",
            "_view_module_version": "1.2.0",
            "_view_name": "LayoutView",
            "align_content": null,
            "align_items": null,
            "align_self": null,
            "border": null,
            "bottom": null,
            "display": null,
            "flex": null,
            "flex_flow": null,
            "grid_area": null,
            "grid_auto_columns": null,
            "grid_auto_flow": null,
            "grid_auto_rows": null,
            "grid_column": null,
            "grid_gap": null,
            "grid_row": null,
            "grid_template_areas": null,
            "grid_template_columns": null,
            "grid_template_rows": null,
            "height": null,
            "justify_content": null,
            "justify_items": null,
            "left": null,
            "margin": null,
            "max_height": null,
            "max_width": null,
            "min_height": null,
            "min_width": null,
            "object_fit": null,
            "object_position": null,
            "order": null,
            "overflow": null,
            "overflow_x": null,
            "overflow_y": null,
            "padding": null,
            "right": null,
            "top": null,
            "visibility": null,
            "width": null
          }
        },
        "9219d49b9b5a4913986de9b8d14919b6": {
          "model_module": "@jupyter-widgets/controls",
          "model_module_version": "1.5.0",
          "model_name": "FloatProgressModel",
          "state": {
            "_dom_classes": [],
            "_model_module": "@jupyter-widgets/controls",
            "_model_module_version": "1.5.0",
            "_model_name": "FloatProgressModel",
            "_view_count": null,
            "_view_module": "@jupyter-widgets/controls",
            "_view_module_version": "1.5.0",
            "_view_name": "ProgressView",
            "bar_style": "success",
            "description": "",
            "description_tooltip": null,
            "layout": "IPY_MODEL_80fc0e1b30ad486787526717ef3e161a",
            "max": 28881,
            "min": 0,
            "orientation": "horizontal",
            "style": "IPY_MODEL_c6aa92525157470da43a2eb9be825f97",
            "value": 28881
          }
        },
        "9670ad0b299f442dae4b9ae7c1f49b20": {
          "model_module": "@jupyter-widgets/controls",
          "model_module_version": "1.5.0",
          "model_name": "DescriptionStyleModel",
          "state": {
            "_model_module": "@jupyter-widgets/controls",
            "_model_module_version": "1.5.0",
            "_model_name": "DescriptionStyleModel",
            "_view_count": null,
            "_view_module": "@jupyter-widgets/base",
            "_view_module_version": "1.2.0",
            "_view_name": "StyleView",
            "description_width": ""
          }
        },
        "9bd8e73468874dbc9a6733f7d9d2a06e": {
          "model_module": "@jupyter-widgets/base",
          "model_module_version": "1.2.0",
          "model_name": "LayoutModel",
          "state": {
            "_model_module": "@jupyter-widgets/base",
            "_model_module_version": "1.2.0",
            "_model_name": "LayoutModel",
            "_view_count": null,
            "_view_module": "@jupyter-widgets/base",
            "_view_module_version": "1.2.0",
            "_view_name": "LayoutView",
            "align_content": null,
            "align_items": null,
            "align_self": null,
            "border": null,
            "bottom": null,
            "display": null,
            "flex": null,
            "flex_flow": null,
            "grid_area": null,
            "grid_auto_columns": null,
            "grid_auto_flow": null,
            "grid_auto_rows": null,
            "grid_column": null,
            "grid_gap": null,
            "grid_row": null,
            "grid_template_areas": null,
            "grid_template_columns": null,
            "grid_template_rows": null,
            "height": null,
            "justify_content": null,
            "justify_items": null,
            "left": null,
            "margin": null,
            "max_height": null,
            "max_width": null,
            "min_height": null,
            "min_width": null,
            "object_fit": null,
            "object_position": null,
            "order": null,
            "overflow": null,
            "overflow_x": null,
            "overflow_y": null,
            "padding": null,
            "right": null,
            "top": null,
            "visibility": null,
            "width": null
          }
        },
        "9f72a3cf22e0498ab91b67589efa9ff8": {
          "model_module": "@jupyter-widgets/controls",
          "model_module_version": "1.5.0",
          "model_name": "HTMLModel",
          "state": {
            "_dom_classes": [],
            "_model_module": "@jupyter-widgets/controls",
            "_model_module_version": "1.5.0",
            "_model_name": "HTMLModel",
            "_view_count": null,
            "_view_module": "@jupyter-widgets/controls",
            "_view_module_version": "1.5.0",
            "_view_name": "HTMLView",
            "description": "",
            "description_tooltip": null,
            "layout": "IPY_MODEL_45997127df2b4a1eaddd086a2895df3f",
            "placeholder": "​",
            "style": "IPY_MODEL_35a831a27cb94988bd031b1d050bedf0",
            "value": ""
          }
        },
        "a15c278bb24d4655880f7706f60a5fc9": {
          "model_module": "@jupyter-widgets/controls",
          "model_module_version": "1.5.0",
          "model_name": "DescriptionStyleModel",
          "state": {
            "_model_module": "@jupyter-widgets/controls",
            "_model_module_version": "1.5.0",
            "_model_name": "DescriptionStyleModel",
            "_view_count": null,
            "_view_module": "@jupyter-widgets/base",
            "_view_module_version": "1.2.0",
            "_view_name": "StyleView",
            "description_width": ""
          }
        },
        "acd63eb3c8e34683b8fbc7c5c82511fe": {
          "model_module": "@jupyter-widgets/controls",
          "model_module_version": "1.5.0",
          "model_name": "HTMLModel",
          "state": {
            "_dom_classes": [],
            "_model_module": "@jupyter-widgets/controls",
            "_model_module_version": "1.5.0",
            "_model_name": "HTMLModel",
            "_view_count": null,
            "_view_module": "@jupyter-widgets/controls",
            "_view_module_version": "1.5.0",
            "_view_name": "HTMLView",
            "description": "",
            "description_tooltip": null,
            "layout": "IPY_MODEL_df50d13094324e0f908b2a419f8f1950",
            "placeholder": "​",
            "style": "IPY_MODEL_5cecc6c1b2ad4d50ac2f4b176988ab68",
            "value": ""
          }
        },
        "ae01aed865f44779a8f36c0fa4f03b62": {
          "model_module": "@jupyter-widgets/base",
          "model_module_version": "1.2.0",
          "model_name": "LayoutModel",
          "state": {
            "_model_module": "@jupyter-widgets/base",
            "_model_module_version": "1.2.0",
            "_model_name": "LayoutModel",
            "_view_count": null,
            "_view_module": "@jupyter-widgets/base",
            "_view_module_version": "1.2.0",
            "_view_name": "LayoutView",
            "align_content": null,
            "align_items": null,
            "align_self": null,
            "border": null,
            "bottom": null,
            "display": null,
            "flex": null,
            "flex_flow": null,
            "grid_area": null,
            "grid_auto_columns": null,
            "grid_auto_flow": null,
            "grid_auto_rows": null,
            "grid_column": null,
            "grid_gap": null,
            "grid_row": null,
            "grid_template_areas": null,
            "grid_template_columns": null,
            "grid_template_rows": null,
            "height": null,
            "justify_content": null,
            "justify_items": null,
            "left": null,
            "margin": null,
            "max_height": null,
            "max_width": null,
            "min_height": null,
            "min_width": null,
            "object_fit": null,
            "object_position": null,
            "order": null,
            "overflow": null,
            "overflow_x": null,
            "overflow_y": null,
            "padding": null,
            "right": null,
            "top": null,
            "visibility": null,
            "width": null
          }
        },
        "b257747bb3804356b59b5be37b17920f": {
          "model_module": "@jupyter-widgets/base",
          "model_module_version": "1.2.0",
          "model_name": "LayoutModel",
          "state": {
            "_model_module": "@jupyter-widgets/base",
            "_model_module_version": "1.2.0",
            "_model_name": "LayoutModel",
            "_view_count": null,
            "_view_module": "@jupyter-widgets/base",
            "_view_module_version": "1.2.0",
            "_view_name": "LayoutView",
            "align_content": null,
            "align_items": null,
            "align_self": null,
            "border": null,
            "bottom": null,
            "display": null,
            "flex": null,
            "flex_flow": null,
            "grid_area": null,
            "grid_auto_columns": null,
            "grid_auto_flow": null,
            "grid_auto_rows": null,
            "grid_column": null,
            "grid_gap": null,
            "grid_row": null,
            "grid_template_areas": null,
            "grid_template_columns": null,
            "grid_template_rows": null,
            "height": null,
            "justify_content": null,
            "justify_items": null,
            "left": null,
            "margin": null,
            "max_height": null,
            "max_width": null,
            "min_height": null,
            "min_width": null,
            "object_fit": null,
            "object_position": null,
            "order": null,
            "overflow": null,
            "overflow_x": null,
            "overflow_y": null,
            "padding": null,
            "right": null,
            "top": null,
            "visibility": null,
            "width": null
          }
        },
        "b4942a342c234f53839c17614418c2da": {
          "model_module": "@jupyter-widgets/base",
          "model_module_version": "1.2.0",
          "model_name": "LayoutModel",
          "state": {
            "_model_module": "@jupyter-widgets/base",
            "_model_module_version": "1.2.0",
            "_model_name": "LayoutModel",
            "_view_count": null,
            "_view_module": "@jupyter-widgets/base",
            "_view_module_version": "1.2.0",
            "_view_name": "LayoutView",
            "align_content": null,
            "align_items": null,
            "align_self": null,
            "border": null,
            "bottom": null,
            "display": null,
            "flex": null,
            "flex_flow": null,
            "grid_area": null,
            "grid_auto_columns": null,
            "grid_auto_flow": null,
            "grid_auto_rows": null,
            "grid_column": null,
            "grid_gap": null,
            "grid_row": null,
            "grid_template_areas": null,
            "grid_template_columns": null,
            "grid_template_rows": null,
            "height": null,
            "justify_content": null,
            "justify_items": null,
            "left": null,
            "margin": null,
            "max_height": null,
            "max_width": null,
            "min_height": null,
            "min_width": null,
            "object_fit": null,
            "object_position": null,
            "order": null,
            "overflow": null,
            "overflow_x": null,
            "overflow_y": null,
            "padding": null,
            "right": null,
            "top": null,
            "visibility": null,
            "width": null
          }
        },
        "bcbf18269fb24dd99e52852538004013": {
          "model_module": "@jupyter-widgets/controls",
          "model_module_version": "1.5.0",
          "model_name": "HTMLModel",
          "state": {
            "_dom_classes": [],
            "_model_module": "@jupyter-widgets/controls",
            "_model_module_version": "1.5.0",
            "_model_name": "HTMLModel",
            "_view_count": null,
            "_view_module": "@jupyter-widgets/controls",
            "_view_module_version": "1.5.0",
            "_view_name": "HTMLView",
            "description": "",
            "description_tooltip": null,
            "layout": "IPY_MODEL_ebe51c95b80047a2890f371bd6fc3607",
            "placeholder": "​",
            "style": "IPY_MODEL_46f16e3e4aa9413fbcebd1b0fbd45921",
            "value": " 9913344/? [00:00&lt;00:00, 50078476.92it/s]"
          }
        },
        "c582151ba06e40a69a54780f0223a82d": {
          "model_module": "@jupyter-widgets/controls",
          "model_module_version": "1.5.0",
          "model_name": "FloatProgressModel",
          "state": {
            "_dom_classes": [],
            "_model_module": "@jupyter-widgets/controls",
            "_model_module_version": "1.5.0",
            "_model_name": "FloatProgressModel",
            "_view_count": null,
            "_view_module": "@jupyter-widgets/controls",
            "_view_module_version": "1.5.0",
            "_view_name": "ProgressView",
            "bar_style": "success",
            "description": "",
            "description_tooltip": null,
            "layout": "IPY_MODEL_26d626d7a54b49889db4f2d86ff61d44",
            "max": 4542,
            "min": 0,
            "orientation": "horizontal",
            "style": "IPY_MODEL_407ed7389f93415ab37b2dc51e498fa3",
            "value": 4542
          }
        },
        "c6aa92525157470da43a2eb9be825f97": {
          "model_module": "@jupyter-widgets/controls",
          "model_module_version": "1.5.0",
          "model_name": "ProgressStyleModel",
          "state": {
            "_model_module": "@jupyter-widgets/controls",
            "_model_module_version": "1.5.0",
            "_model_name": "ProgressStyleModel",
            "_view_count": null,
            "_view_module": "@jupyter-widgets/base",
            "_view_module_version": "1.2.0",
            "_view_name": "StyleView",
            "bar_color": null,
            "description_width": ""
          }
        },
        "cf909c2f22c74ab79d9f0748fad92cc8": {
          "model_module": "@jupyter-widgets/controls",
          "model_module_version": "1.5.0",
          "model_name": "HBoxModel",
          "state": {
            "_dom_classes": [],
            "_model_module": "@jupyter-widgets/controls",
            "_model_module_version": "1.5.0",
            "_model_name": "HBoxModel",
            "_view_count": null,
            "_view_module": "@jupyter-widgets/controls",
            "_view_module_version": "1.5.0",
            "_view_name": "HBoxView",
            "box_style": "",
            "children": [
              "IPY_MODEL_5e7f37a5ac3f49e4959d799c26ce095e",
              "IPY_MODEL_9219d49b9b5a4913986de9b8d14919b6",
              "IPY_MODEL_63251ee0e57a4b58a7b3b8cdb6aa45da"
            ],
            "layout": "IPY_MODEL_7bd1a1344e104f86ac290281fa986d6a"
          }
        },
        "d220fa568d324c519316c1a71ce3f332": {
          "model_module": "@jupyter-widgets/base",
          "model_module_version": "1.2.0",
          "model_name": "LayoutModel",
          "state": {
            "_model_module": "@jupyter-widgets/base",
            "_model_module_version": "1.2.0",
            "_model_name": "LayoutModel",
            "_view_count": null,
            "_view_module": "@jupyter-widgets/base",
            "_view_module_version": "1.2.0",
            "_view_name": "LayoutView",
            "align_content": null,
            "align_items": null,
            "align_self": null,
            "border": null,
            "bottom": null,
            "display": null,
            "flex": null,
            "flex_flow": null,
            "grid_area": null,
            "grid_auto_columns": null,
            "grid_auto_flow": null,
            "grid_auto_rows": null,
            "grid_column": null,
            "grid_gap": null,
            "grid_row": null,
            "grid_template_areas": null,
            "grid_template_columns": null,
            "grid_template_rows": null,
            "height": null,
            "justify_content": null,
            "justify_items": null,
            "left": null,
            "margin": null,
            "max_height": null,
            "max_width": null,
            "min_height": null,
            "min_width": null,
            "object_fit": null,
            "object_position": null,
            "order": null,
            "overflow": null,
            "overflow_x": null,
            "overflow_y": null,
            "padding": null,
            "right": null,
            "top": null,
            "visibility": null,
            "width": null
          }
        },
        "d35b0962865e443299fc682119a01e4e": {
          "model_module": "@jupyter-widgets/base",
          "model_module_version": "1.2.0",
          "model_name": "LayoutModel",
          "state": {
            "_model_module": "@jupyter-widgets/base",
            "_model_module_version": "1.2.0",
            "_model_name": "LayoutModel",
            "_view_count": null,
            "_view_module": "@jupyter-widgets/base",
            "_view_module_version": "1.2.0",
            "_view_name": "LayoutView",
            "align_content": null,
            "align_items": null,
            "align_self": null,
            "border": null,
            "bottom": null,
            "display": null,
            "flex": null,
            "flex_flow": null,
            "grid_area": null,
            "grid_auto_columns": null,
            "grid_auto_flow": null,
            "grid_auto_rows": null,
            "grid_column": null,
            "grid_gap": null,
            "grid_row": null,
            "grid_template_areas": null,
            "grid_template_columns": null,
            "grid_template_rows": null,
            "height": null,
            "justify_content": null,
            "justify_items": null,
            "left": null,
            "margin": null,
            "max_height": null,
            "max_width": null,
            "min_height": null,
            "min_width": null,
            "object_fit": null,
            "object_position": null,
            "order": null,
            "overflow": null,
            "overflow_x": null,
            "overflow_y": null,
            "padding": null,
            "right": null,
            "top": null,
            "visibility": null,
            "width": null
          }
        },
        "d61086efe4cd41d2a509fca4345ac669": {
          "model_module": "@jupyter-widgets/controls",
          "model_module_version": "1.5.0",
          "model_name": "DescriptionStyleModel",
          "state": {
            "_model_module": "@jupyter-widgets/controls",
            "_model_module_version": "1.5.0",
            "_model_name": "DescriptionStyleModel",
            "_view_count": null,
            "_view_module": "@jupyter-widgets/base",
            "_view_module_version": "1.2.0",
            "_view_name": "StyleView",
            "description_width": ""
          }
        },
        "dacab51e49444fb69e489582ee673f95": {
          "model_module": "@jupyter-widgets/controls",
          "model_module_version": "1.5.0",
          "model_name": "DescriptionStyleModel",
          "state": {
            "_model_module": "@jupyter-widgets/controls",
            "_model_module_version": "1.5.0",
            "_model_name": "DescriptionStyleModel",
            "_view_count": null,
            "_view_module": "@jupyter-widgets/base",
            "_view_module_version": "1.2.0",
            "_view_name": "StyleView",
            "description_width": ""
          }
        },
        "df50d13094324e0f908b2a419f8f1950": {
          "model_module": "@jupyter-widgets/base",
          "model_module_version": "1.2.0",
          "model_name": "LayoutModel",
          "state": {
            "_model_module": "@jupyter-widgets/base",
            "_model_module_version": "1.2.0",
            "_model_name": "LayoutModel",
            "_view_count": null,
            "_view_module": "@jupyter-widgets/base",
            "_view_module_version": "1.2.0",
            "_view_name": "LayoutView",
            "align_content": null,
            "align_items": null,
            "align_self": null,
            "border": null,
            "bottom": null,
            "display": null,
            "flex": null,
            "flex_flow": null,
            "grid_area": null,
            "grid_auto_columns": null,
            "grid_auto_flow": null,
            "grid_auto_rows": null,
            "grid_column": null,
            "grid_gap": null,
            "grid_row": null,
            "grid_template_areas": null,
            "grid_template_columns": null,
            "grid_template_rows": null,
            "height": null,
            "justify_content": null,
            "justify_items": null,
            "left": null,
            "margin": null,
            "max_height": null,
            "max_width": null,
            "min_height": null,
            "min_width": null,
            "object_fit": null,
            "object_position": null,
            "order": null,
            "overflow": null,
            "overflow_x": null,
            "overflow_y": null,
            "padding": null,
            "right": null,
            "top": null,
            "visibility": null,
            "width": null
          }
        },
        "ebe51c95b80047a2890f371bd6fc3607": {
          "model_module": "@jupyter-widgets/base",
          "model_module_version": "1.2.0",
          "model_name": "LayoutModel",
          "state": {
            "_model_module": "@jupyter-widgets/base",
            "_model_module_version": "1.2.0",
            "_model_name": "LayoutModel",
            "_view_count": null,
            "_view_module": "@jupyter-widgets/base",
            "_view_module_version": "1.2.0",
            "_view_name": "LayoutView",
            "align_content": null,
            "align_items": null,
            "align_self": null,
            "border": null,
            "bottom": null,
            "display": null,
            "flex": null,
            "flex_flow": null,
            "grid_area": null,
            "grid_auto_columns": null,
            "grid_auto_flow": null,
            "grid_auto_rows": null,
            "grid_column": null,
            "grid_gap": null,
            "grid_row": null,
            "grid_template_areas": null,
            "grid_template_columns": null,
            "grid_template_rows": null,
            "height": null,
            "justify_content": null,
            "justify_items": null,
            "left": null,
            "margin": null,
            "max_height": null,
            "max_width": null,
            "min_height": null,
            "min_width": null,
            "object_fit": null,
            "object_position": null,
            "order": null,
            "overflow": null,
            "overflow_x": null,
            "overflow_y": null,
            "padding": null,
            "right": null,
            "top": null,
            "visibility": null,
            "width": null
          }
        },
        "f2ccfcbaafcc4e8a815b13f058ae184a": {
          "model_module": "@jupyter-widgets/controls",
          "model_module_version": "1.5.0",
          "model_name": "HBoxModel",
          "state": {
            "_dom_classes": [],
            "_model_module": "@jupyter-widgets/controls",
            "_model_module_version": "1.5.0",
            "_model_name": "HBoxModel",
            "_view_count": null,
            "_view_module": "@jupyter-widgets/controls",
            "_view_module_version": "1.5.0",
            "_view_name": "HBoxView",
            "box_style": "",
            "children": [
              "IPY_MODEL_5c08f2f456334674999a0946469a44e1",
              "IPY_MODEL_c582151ba06e40a69a54780f0223a82d",
              "IPY_MODEL_67dba3ce5583496da846416cf1c95882"
            ],
            "layout": "IPY_MODEL_b4942a342c234f53839c17614418c2da"
          }
        },
        "fb3d926652a94728a52e0294c1f8f3a9": {
          "model_module": "@jupyter-widgets/base",
          "model_module_version": "1.2.0",
          "model_name": "LayoutModel",
          "state": {
            "_model_module": "@jupyter-widgets/base",
            "_model_module_version": "1.2.0",
            "_model_name": "LayoutModel",
            "_view_count": null,
            "_view_module": "@jupyter-widgets/base",
            "_view_module_version": "1.2.0",
            "_view_name": "LayoutView",
            "align_content": null,
            "align_items": null,
            "align_self": null,
            "border": null,
            "bottom": null,
            "display": null,
            "flex": null,
            "flex_flow": null,
            "grid_area": null,
            "grid_auto_columns": null,
            "grid_auto_flow": null,
            "grid_auto_rows": null,
            "grid_column": null,
            "grid_gap": null,
            "grid_row": null,
            "grid_template_areas": null,
            "grid_template_columns": null,
            "grid_template_rows": null,
            "height": null,
            "justify_content": null,
            "justify_items": null,
            "left": null,
            "margin": null,
            "max_height": null,
            "max_width": null,
            "min_height": null,
            "min_width": null,
            "object_fit": null,
            "object_position": null,
            "order": null,
            "overflow": null,
            "overflow_x": null,
            "overflow_y": null,
            "padding": null,
            "right": null,
            "top": null,
            "visibility": null,
            "width": null
          }
        },
        "fde7be78c8cb4047806ad6ec6c331510": {
          "model_module": "@jupyter-widgets/controls",
          "model_module_version": "1.5.0",
          "model_name": "HTMLModel",
          "state": {
            "_dom_classes": [],
            "_model_module": "@jupyter-widgets/controls",
            "_model_module_version": "1.5.0",
            "_model_name": "HTMLModel",
            "_view_count": null,
            "_view_module": "@jupyter-widgets/controls",
            "_view_module_version": "1.5.0",
            "_view_name": "HTMLView",
            "description": "",
            "description_tooltip": null,
            "layout": "IPY_MODEL_b257747bb3804356b59b5be37b17920f",
            "placeholder": "​",
            "style": "IPY_MODEL_9670ad0b299f442dae4b9ae7c1f49b20",
            "value": " 1649664/? [00:00&lt;00:00, 17198188.30it/s]"
          }
        }
      }
    }
  },
  "nbformat": 4,
  "nbformat_minor": 0
}
